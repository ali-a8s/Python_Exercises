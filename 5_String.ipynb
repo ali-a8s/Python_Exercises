{
  "nbformat": 4,
  "nbformat_minor": 0,
  "metadata": {
    "colab": {
      "provenance": []
    },
    "kernelspec": {
      "name": "python3",
      "display_name": "Python 3"
    },
    "language_info": {
      "name": "python"
    }
  },
  "cells": [
    {
      "cell_type": "code",
      "execution_count": 1,
      "metadata": {
        "colab": {
          "base_uri": "https://localhost:8080/"
        },
        "id": "Yj5XVmFR3yfG",
        "outputId": "3570a4cf-a53e-4ea8-8d2a-c1996f779af3"
      },
      "outputs": [
        {
          "output_type": "stream",
          "name": "stdout",
          "text": [
            "Original String is James\n",
            "New String: Jms\n"
          ]
        }
      ],
      "source": [
        "# Exercise 1A: Create a string made of the first, middle and last character\n",
        "\n",
        "str1 = 'James'\n",
        "print(\"Original String is\", str1)\n",
        "\n",
        "res = str1[0]\n",
        "\n",
        "l = len(str1)\n",
        "mi = int(l / 2)\n",
        "res = res + str1[mi]\n",
        "\n",
        "res = res + str1[l - 1]\n",
        "\n",
        "print(\"New String:\", res)"
      ]
    },
    {
      "cell_type": "code",
      "source": [
        "# Exercise 1B: Create a string made of the middle three characters\n",
        "\n",
        "def get_middle_three_chars(str1):\n",
        "    print(\"Original String is\", str1)\n",
        "\n",
        "    mi = int(len(str1) / 2)\n",
        "\n",
        "    res = str1[mi - 1:mi + 2]\n",
        "    print(\"Middle three chars are:\", res)\n",
        "\n",
        "get_middle_three_chars(\"JhonDipPeta\")\n",
        "get_middle_three_chars(\"JaSonAy\")"
      ],
      "metadata": {
        "colab": {
          "base_uri": "https://localhost:8080/"
        },
        "id": "azBbYkwv4Hk_",
        "outputId": "d4062eca-8932-4ea3-989d-f2a9ede16ce2"
      },
      "execution_count": 2,
      "outputs": [
        {
          "output_type": "stream",
          "name": "stdout",
          "text": [
            "Original String is JhonDipPeta\n",
            "Middle three chars are: Dip\n",
            "Original String is JaSonAy\n",
            "Middle three chars are: Son\n"
          ]
        }
      ]
    },
    {
      "cell_type": "code",
      "source": [
        "# Exercise 3: Create a new string made of the first, middle, and last characters of each input string\n",
        "\n",
        "def mix_string(s1, s2):\n",
        "    first_char = s1[0] + s2[0]\n",
        "\n",
        "    middle_char = s1[int(len(s1) / 2):int(len(s1) / 2) + 1] + s2[int(len(s2) / 2):int(len(s2) / 2) + 1]\n",
        "\n",
        "    last_char = s1[len(s1) - 1] + s2[len(s2) - 1]\n",
        "\n",
        "    res = first_char + middle_char + last_char\n",
        "    print(\"Mix String is \", res)\n",
        "\n",
        "s1 = \"America\"\n",
        "s2 = \"Japan\"\n",
        "mix_string(s1, s2)"
      ],
      "metadata": {
        "colab": {
          "base_uri": "https://localhost:8080/"
        },
        "id": "NwWkbYS04Vrj",
        "outputId": "6b05d9c9-617c-4d4f-e13c-b94752cf609d"
      },
      "execution_count": 3,
      "outputs": [
        {
          "output_type": "stream",
          "name": "stdout",
          "text": [
            "Mix String is  AJrpan\n"
          ]
        }
      ]
    },
    {
      "cell_type": "code",
      "source": [
        "# Exercise 4: Arrange string characters such that lowercase letters should come first\n",
        "\n",
        "string = 'PyNaTive'\n",
        "\n",
        "lower = \"\"\n",
        "upper = \"\"\n",
        "for i in string:\n",
        "  if i.islower():\n",
        "    lower += i\n",
        "  elif i.isupper():\n",
        "    upper += i\n",
        "\n",
        "print(lower + upper)"
      ],
      "metadata": {
        "colab": {
          "base_uri": "https://localhost:8080/"
        },
        "id": "AF6OskMJ4cyo",
        "outputId": "d36d7b95-9e4e-4a9c-a568-f5404c3d5485"
      },
      "execution_count": 6,
      "outputs": [
        {
          "output_type": "stream",
          "name": "stdout",
          "text": [
            "yaivePNT\n"
          ]
        }
      ]
    },
    {
      "cell_type": "code",
      "source": [
        "# Exercise 5: Count all letters, digits, and special symbols from a given string\n",
        "\n",
        "string = \"P@#yn26at^&i5ve\"\n",
        "\n",
        "chars = 0\n",
        "digits = 0\n",
        "symbol = 0\n",
        "\n",
        "for i in string:\n",
        "  if i.isalpha():\n",
        "    chars += 1\n",
        "  elif i.isdigit():\n",
        "    digits += 1\n",
        "  else:\n",
        "    symbol += 1\n",
        "\n",
        "print(f'''Total counts of chars, digits, and symbols\n",
        "\n",
        "Chars = {chars}\n",
        "Digits = {digits}\n",
        "Symbol = {symbol} ''')"
      ],
      "metadata": {
        "colab": {
          "base_uri": "https://localhost:8080/"
        },
        "id": "FuB_M4gp4sfO",
        "outputId": "72dad732-7d1c-40a5-a233-c0d47a890974"
      },
      "execution_count": 8,
      "outputs": [
        {
          "output_type": "stream",
          "name": "stdout",
          "text": [
            "Total counts of chars, digits, and symbols \n",
            "\n",
            "Chars = 8\n",
            "Digits = 3 \n",
            "Symbol = 4 \n"
          ]
        }
      ]
    },
    {
      "cell_type": "code",
      "source": [
        "# Exercise 6: Create a mixed String using the following rules\n",
        "# Given two strings, s1 and s2.\n",
        "# Write a program to create a new string s3 made of the first char of s1,\n",
        "# then the last char of s2, Next,\n",
        "# the second char of s1 and second last char of s2, and so on.\n",
        "# Any leftover chars go at the end of the result.\n",
        "\n",
        "s1 = \"Abc\"\n",
        "s2 = \"Xyz\"\n",
        "\n",
        "s1_length = len(s1)\n",
        "s2_length = len(s2)\n",
        "\n",
        "length = s1_length if s1_length > s2_length else s2_length\n",
        "result = \"\"\n",
        "\n",
        "s2 = s2[::-1]\n",
        "\n",
        "for i in range(length):\n",
        "    if i < s1_length:\n",
        "        result = result + s1[i]\n",
        "    if i < s2_length:\n",
        "        result = result + s2[i]\n",
        "\n",
        "print(result)"
      ],
      "metadata": {
        "colab": {
          "base_uri": "https://localhost:8080/"
        },
        "id": "wPu-2Q1659Cw",
        "outputId": "15bac116-c014-4d62-96be-a27212d50967"
      },
      "execution_count": 9,
      "outputs": [
        {
          "output_type": "stream",
          "name": "stdout",
          "text": [
            "AzbycX\n"
          ]
        }
      ]
    },
    {
      "cell_type": "code",
      "source": [
        "# Exercise 7: String characters balance Test\n",
        "\n",
        "def string_balance_test(s1, s2):\n",
        "    flag = True\n",
        "    for char in s1:\n",
        "        if char in s2:\n",
        "            continue\n",
        "        else:\n",
        "            flag = False\n",
        "    return flag\n",
        "\n",
        "\n",
        "s1 = \"Yn\"\n",
        "s2 = \"PYnative\"\n",
        "flag = string_balance_test(s1, s2)\n",
        "print(\"s1 and s2 are balanced:\", flag)\n",
        "\n",
        "s1 = \"Ynf\"\n",
        "s2 = \"PYnative\"\n",
        "flag = string_balance_test(s1, s2)\n",
        "print(\"s1 and s2 are balanced:\", flag)"
      ],
      "metadata": {
        "colab": {
          "base_uri": "https://localhost:8080/"
        },
        "id": "1AlpfmPh6frK",
        "outputId": "2ecd55dd-4979-411f-acc7-fcac9d59ad70"
      },
      "execution_count": 10,
      "outputs": [
        {
          "output_type": "stream",
          "name": "stdout",
          "text": [
            "s1 and s2 are balanced: True\n",
            "s1 and s2 are balanced: False\n"
          ]
        }
      ]
    },
    {
      "cell_type": "code",
      "source": [
        "# Exercise 8: Find all occurrences of a substring in a given string by ignoring the case\n",
        "\n",
        "str1 = \"Welcome to USA. usa awesome, isn't it?\"\n",
        "sub_string = \"USA\"\n",
        "\n",
        "temp_str = str1.lower()\n",
        "\n",
        "count = temp_str.count(sub_string.lower())\n",
        "print(\"The USA count is:\", count)\n"
      ],
      "metadata": {
        "colab": {
          "base_uri": "https://localhost:8080/"
        },
        "id": "0QpEaJaa60dK",
        "outputId": "5a8cd5c6-1270-496c-c9c6-c6edf24bef7f"
      },
      "execution_count": 12,
      "outputs": [
        {
          "output_type": "stream",
          "name": "stdout",
          "text": [
            "The USA count is: 2\n"
          ]
        }
      ]
    },
    {
      "cell_type": "code",
      "source": [
        "# Exercise 9: Calculate the sum and average of the digits present in a string\n",
        "\n",
        "input_str = \"PYnative29@#8496\"\n",
        "total = 0\n",
        "cnt = 0\n",
        "for char in input_str:\n",
        "    if char.isdigit():\n",
        "        total += int(char)\n",
        "        cnt += 1\n",
        "\n",
        "avg = total / cnt\n",
        "print(\"Sum is:\", total, \"Average is \", avg)"
      ],
      "metadata": {
        "colab": {
          "base_uri": "https://localhost:8080/"
        },
        "id": "g4hhWeGJ7IGZ",
        "outputId": "aceabb1a-0e4d-4ba9-eaff-784f8be640c1"
      },
      "execution_count": 16,
      "outputs": [
        {
          "output_type": "stream",
          "name": "stdout",
          "text": [
            "Sum is: 38 Average is  6.333333333333333\n"
          ]
        }
      ]
    },
    {
      "cell_type": "code",
      "source": [
        "# Exercise 10: Write a program to count occurrences of all characters within a string\n",
        "\n",
        "from collections import Counter\n",
        "\n",
        "str1 = \"Apple\"\n",
        "\n",
        "print(Counter(str1))"
      ],
      "metadata": {
        "colab": {
          "base_uri": "https://localhost:8080/"
        },
        "id": "oR55Hylx7sMf",
        "outputId": "8f2868a8-da9d-42e5-f9e1-65022f032036"
      },
      "execution_count": 17,
      "outputs": [
        {
          "output_type": "stream",
          "name": "stdout",
          "text": [
            "Counter({'p': 2, 'A': 1, 'l': 1, 'e': 1})\n"
          ]
        }
      ]
    },
    {
      "cell_type": "code",
      "source": [
        "# Exercise 11: Reverse a given string\n",
        "\n",
        "str1 = \"PYnative\"\n",
        "\n",
        "print(str1[::-1])"
      ],
      "metadata": {
        "colab": {
          "base_uri": "https://localhost:8080/"
        },
        "id": "bgoNqMxJ8p_1",
        "outputId": "a384b3de-277a-45ab-a6aa-93044054e1a3"
      },
      "execution_count": 18,
      "outputs": [
        {
          "output_type": "stream",
          "name": "stdout",
          "text": [
            "evitanYP\n"
          ]
        }
      ]
    },
    {
      "cell_type": "code",
      "source": [
        "# Exercise 12: Find the last position of a given substring\n",
        "\n",
        "import re\n",
        "\n",
        "str1 = \"Emma is a data scientist who knows Python. Emma works at google.\"\n",
        "\n",
        "print(\"Original String is:\", str1)\n",
        "\n",
        "index = str1.rfind(\"Emma\")\n",
        "print(\"Last occurrence of Emma starts at index:\", index)"
      ],
      "metadata": {
        "colab": {
          "base_uri": "https://localhost:8080/"
        },
        "id": "WzcKqRCH8xGp",
        "outputId": "8b3366a6-47ea-40b1-e94d-acccdcb884c3"
      },
      "execution_count": 23,
      "outputs": [
        {
          "output_type": "stream",
          "name": "stdout",
          "text": [
            "Original String is: Emma is a data scientist who knows Python. Emma works at google.\n",
            "Last occurrence of Emma starts at index: 43\n"
          ]
        }
      ]
    },
    {
      "cell_type": "code",
      "source": [
        "# Exercise 13: Split a string on hyphens\n",
        "\n",
        "str1 = \"Emma-is-a-data-scientist\"\n",
        "\n",
        "lst = str1.split(\"-\")\n",
        "\n",
        "for i in lst:\n",
        "  print(i)"
      ],
      "metadata": {
        "colab": {
          "base_uri": "https://localhost:8080/"
        },
        "id": "CJsmvQYd9BR9",
        "outputId": "03a648c3-0737-434f-c50f-4c20213a995d"
      },
      "execution_count": 24,
      "outputs": [
        {
          "output_type": "stream",
          "name": "stdout",
          "text": [
            "Emma\n",
            "is\n",
            "a\n",
            "data\n",
            "scientist\n"
          ]
        }
      ]
    },
    {
      "cell_type": "code",
      "source": [
        "# Exercise 14: Remove empty strings from a list of strings\n",
        "\n",
        "str_list = [\"Emma\", \"Jon\", \"\", \"Kelly\", None, \"Eric\", \"\"]\n",
        "\n",
        "for i in str_list:\n",
        "  if i == \"\" or i is None:\n",
        "    str_list.remove(i)\n",
        "\n",
        "str_list"
      ],
      "metadata": {
        "colab": {
          "base_uri": "https://localhost:8080/"
        },
        "id": "QCC49Pab-khr",
        "outputId": "20cb68ee-f902-434a-bb71-7ef75b95d802"
      },
      "execution_count": 26,
      "outputs": [
        {
          "output_type": "execute_result",
          "data": {
            "text/plain": [
              "['Emma', 'Jon', 'Kelly', 'Eric']"
            ]
          },
          "metadata": {},
          "execution_count": 26
        }
      ]
    },
    {
      "cell_type": "code",
      "source": [
        "# Exercise 15: Remove special symbols / punctuation from a string\n",
        "\n",
        "import re\n",
        "\n",
        "str1 = \"/*Jon is @developer & musician\"\n",
        "print(\"Original string is \", str1)\n",
        "\n",
        "# replace special symbols with ''\n",
        "res = re.sub(r'[^\\w\\s]', '', str1)\n",
        "print(\"New string is \", res)"
      ],
      "metadata": {
        "colab": {
          "base_uri": "https://localhost:8080/"
        },
        "id": "Rqt_C2ah-y38",
        "outputId": "4099015a-60e2-4a34-f4f1-5cd861727570"
      },
      "execution_count": 30,
      "outputs": [
        {
          "output_type": "stream",
          "name": "stdout",
          "text": [
            "Original string is  /*Jon is @developer & musician\n",
            "New string is  Jon is developer  musician\n"
          ]
        }
      ]
    },
    {
      "cell_type": "code",
      "source": [
        "# Exercise 16: Removal all characters from a string except integers\n",
        "\n",
        "import re\n",
        "\n",
        "str1 = 'I am 25 years and 10 months old'\n",
        "\n",
        "res = re.findall(r'\\d', str1)\n",
        "\n",
        "print(''.join(res))"
      ],
      "metadata": {
        "colab": {
          "base_uri": "https://localhost:8080/"
        },
        "id": "cAo58jOo_wMX",
        "outputId": "92894e27-0a64-424f-a422-60e18c1dd86d"
      },
      "execution_count": 32,
      "outputs": [
        {
          "output_type": "stream",
          "name": "stdout",
          "text": [
            "2510\n"
          ]
        }
      ]
    },
    {
      "cell_type": "code",
      "source": [
        "# Exercise 17: Find words with both alphabets and numbers\n",
        "\n",
        "import re\n",
        "\n",
        "str1 = \"Emma25 is Data scientist50 and AI Expert\"\n",
        "\n",
        "res = re.findall(r'(\\w+\\d+)', str1)\n",
        "\n",
        "print(*res)"
      ],
      "metadata": {
        "colab": {
          "base_uri": "https://localhost:8080/"
        },
        "id": "xZ-JhZC5ARz6",
        "outputId": "5cebc69a-3174-4a59-e5df-50554e7a2f7f"
      },
      "execution_count": 36,
      "outputs": [
        {
          "output_type": "stream",
          "name": "stdout",
          "text": [
            "Emma25 scientist50\n"
          ]
        }
      ]
    },
    {
      "cell_type": "code",
      "source": [
        "# Exercise 18: Replace each special symbol with # in the following string\n",
        "\n",
        "import string\n",
        "\n",
        "str1 = '/*Jon is @developer & musician!!'\n",
        "print(\"The original string is : \", str1)\n",
        "\n",
        "# Replace punctuations with #\n",
        "replace_char = '#'\n",
        "\n",
        "# string.punctuation to get the list of all special symbols\n",
        "for char in string.punctuation:\n",
        "    str1 = str1.replace(char, replace_char)\n",
        "\n",
        "print(\"The strings after replacement : \", str1)\n"
      ],
      "metadata": {
        "colab": {
          "base_uri": "https://localhost:8080/"
        },
        "id": "rAl9pHpgA_1R",
        "outputId": "8af8aef2-9720-41e5-d499-33b74fdf6541"
      },
      "execution_count": 38,
      "outputs": [
        {
          "output_type": "stream",
          "name": "stdout",
          "text": [
            "The original string is :  /*Jon is @developer & musician!!\n",
            "The strings after replacement :  ##Jon is #developer # musician##\n"
          ]
        }
      ]
    }
  ]
}