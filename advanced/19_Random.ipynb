{
  "nbformat": 4,
  "nbformat_minor": 0,
  "metadata": {
    "colab": {
      "provenance": []
    },
    "kernelspec": {
      "name": "python3",
      "display_name": "Python 3"
    },
    "language_info": {
      "name": "python"
    }
  },
  "cells": [
    {
      "cell_type": "code",
      "execution_count": 1,
      "metadata": {
        "id": "qIwOx7BFXQGH"
      },
      "outputs": [],
      "source": [
        "import random"
      ]
    },
    {
      "cell_type": "code",
      "source": [
        "# Exercise 1: Generate 3 Random Integers\n",
        "\n",
        "for _ in range(3):\n",
        "  print(random.randint(1, 10))"
      ],
      "metadata": {
        "colab": {
          "base_uri": "https://localhost:8080/"
        },
        "id": "QyaGl3maXeNw",
        "outputId": "11e25559-1cc0-459a-c826-812fc3a28960"
      },
      "execution_count": 2,
      "outputs": [
        {
          "output_type": "stream",
          "name": "stdout",
          "text": [
            "4\n",
            "7\n",
            "2\n"
          ]
        }
      ]
    },
    {
      "cell_type": "code",
      "source": [
        "# Exercise 2: Random Lottery Pick\n",
        "# Write a code to generate 100 random lottery tickets and pick two lucky tickets from it as a winner.\n",
        "# The lottery number must be 10 digits long.\n",
        "# All 100 ticket number must be unique.\n",
        "\n",
        "tickets = [random.randrange(1000000000, 9999999999) for _ in range(100)]\n",
        "print(f'first 10 tickets: \\n{tickets[:10]}\\n')\n",
        "\n",
        "winners = random.sample(tickets, 2)\n",
        "print(f\"Lucky 2 lottery tickets are {winners}\")"
      ],
      "metadata": {
        "colab": {
          "base_uri": "https://localhost:8080/"
        },
        "id": "NqK8IJONXmq_",
        "outputId": "f1c7fe54-de90-48ec-8aee-8a2a68d2ff13"
      },
      "execution_count": 7,
      "outputs": [
        {
          "output_type": "stream",
          "name": "stdout",
          "text": [
            "first 10 tickets: \n",
            "[2222431563, 3627798195, 5164486925, 6310657997, 4021481443, 4844696028, 1436024979, 3561803069, 4769180281, 9311623562]\n",
            "\n",
            "Lucky 2 lottery tickets are [2222431563, 1073193848]\n"
          ]
        }
      ]
    },
    {
      "cell_type": "code",
      "source": [
        "# Exercise 3: Generate 6 digit Random Secure OTP\n",
        "\n",
        "import secrets\n",
        "\n",
        "secretsGenerator = secrets.SystemRandom()\n",
        "\n",
        "otp = secretsGenerator.randrange(100000, 999999)\n",
        "\n",
        "print(\"Secure random OTP is \", otp)"
      ],
      "metadata": {
        "colab": {
          "base_uri": "https://localhost:8080/"
        },
        "id": "HnEZHpJWYFaJ",
        "outputId": "d8491c65-973f-4cd7-d905-fca83235f8d1"
      },
      "execution_count": 8,
      "outputs": [
        {
          "output_type": "stream",
          "name": "stdout",
          "text": [
            "Secure random OTP is  579391\n"
          ]
        }
      ]
    },
    {
      "cell_type": "code",
      "source": [
        "# Exercise 4: Pick Random Character\n",
        "\n",
        "name = 'pynative'\n",
        "ls = [name[i] for i in range(len(name))]\n",
        "\n",
        "print(f'random word from {name} is {random.choice(ls)}')"
      ],
      "metadata": {
        "colab": {
          "base_uri": "https://localhost:8080/"
        },
        "id": "jUHUr2xDYilo",
        "outputId": "59483a02-48ad-4a78-d3e9-6e271eff9911"
      },
      "execution_count": 9,
      "outputs": [
        {
          "output_type": "stream",
          "name": "stdout",
          "text": [
            "random word from pynative is t\n"
          ]
        }
      ]
    },
    {
      "cell_type": "code",
      "source": [
        "# Exercise 5: Generate Random String\n",
        "import string\n",
        "\n",
        "def random_string(length):\n",
        "  letters = string.ascii_letters\n",
        "  choices = [random.choice(letters) for _ in range(length)]\n",
        "  return \"\".join(choices)\n",
        "\n",
        "random_string(6)"
      ],
      "metadata": {
        "colab": {
          "base_uri": "https://localhost:8080/",
          "height": 35
        },
        "id": "yBZ42U6fYy-Q",
        "outputId": "152a3004-f940-45de-8be4-1b3a38b2ceec"
      },
      "execution_count": 10,
      "outputs": [
        {
          "output_type": "execute_result",
          "data": {
            "text/plain": [
              "'lPXhqn'"
            ],
            "application/vnd.google.colaboratory.intrinsic+json": {
              "type": "string"
            }
          },
          "metadata": {},
          "execution_count": 10
        }
      ]
    },
    {
      "cell_type": "code",
      "source": [
        "# Exercise 6: Generate Random Password\n",
        "# Password length must be 10 characters long.\n",
        "# It must contain at least 2 upper case letters, 1 digit, and 1 special symbol\n",
        "\n",
        "import string\n",
        "\n",
        "import random\n",
        "import string\n",
        "\n",
        "def randomPassword():\n",
        "    randomSource = string.ascii_letters + string.digits + string.punctuation\n",
        "    password = random.sample(randomSource, 6)\n",
        "    password += random.sample(string.ascii_uppercase, 2)\n",
        "    password += random.choice(string.digits)\n",
        "    password += random.choice(string.punctuation)\n",
        "\n",
        "    passwordList = list(password)\n",
        "    random.SystemRandom().shuffle(passwordList)\n",
        "    password = ''.join(passwordList)\n",
        "    return password\n",
        "\n",
        "print (f\"Password is {randomPassword()}\")"
      ],
      "metadata": {
        "colab": {
          "base_uri": "https://localhost:8080/"
        },
        "id": "t3Sy7HLjZPo0",
        "outputId": "091b4231-b55a-4128-e3a5-fc35fe78685e"
      },
      "execution_count": 11,
      "outputs": [
        {
          "output_type": "stream",
          "name": "stdout",
          "text": [
            "Password is F4_F^_(X+e\n"
          ]
        }
      ]
    },
    {
      "cell_type": "code",
      "source": [
        "# Exercise 7: Calculate Multiplication\n",
        "# First random float number must be between 0.1 and 1\n",
        "# Second random float number must be between 9.5 and 99.5\n",
        "\n",
        "num1 = random.random()\n",
        "print(f\"first number: {num1}\")\n",
        "num2 = random.uniform(9.5, 99.5)\n",
        "print(f'second number: {num2}')\n",
        "\n",
        "num3 = num1 * num2\n",
        "print(f'result is {num3}')"
      ],
      "metadata": {
        "colab": {
          "base_uri": "https://localhost:8080/"
        },
        "id": "YaQuQobIZeg4",
        "outputId": "ce37b04e-8aff-46c3-c181-3264915457b9"
      },
      "execution_count": 12,
      "outputs": [
        {
          "output_type": "stream",
          "name": "stdout",
          "text": [
            "first number: 0.763977490146374\n",
            "second number: 74.19824035872271\n",
            "result is 56.68578544253437\n"
          ]
        }
      ]
    },
    {
      "cell_type": "code",
      "source": [
        "# Exercise 8: Generate Random Token and URL\n",
        "\n",
        "import secrets\n",
        "\n",
        "print(\"Random secure Hexadecimal token is \", secrets.token_hex(64))\n",
        "print(\"Random secure URL is \", secrets.token_urlsafe(64))"
      ],
      "metadata": {
        "colab": {
          "base_uri": "https://localhost:8080/"
        },
        "id": "3LoNfnn7Z6OZ",
        "outputId": "3d1595a0-3c83-4fcb-998a-ecea8b1abc73"
      },
      "execution_count": 13,
      "outputs": [
        {
          "output_type": "stream",
          "name": "stdout",
          "text": [
            "Random secure Hexadecimal token is  c4e7443e62a629fb16123429f3c325a1e9a45186a411a641bb69285817159ee6e969d3bbc1bef728adbf1e75b415160b56193ba8cbea69c473768321691b36f1\n",
            "Random secure URL is  lFINcUIDJ7LlWSAgpLFjYFKh1R83gXaFK-UpSWvoAF7bhV1OlSzYAMUE8XpOIsLRd4sdq0nYp2VxtVqYwxnEVA\n"
          ]
        }
      ]
    },
    {
      "cell_type": "code",
      "source": [
        "# Exercise 9: Dice Roll\n",
        "\n",
        "dice = [1, 2, 3, 4, 5, 6]\n",
        "print(\"Randomly selecting same number of a dice\")\n",
        "for i in range(5):\n",
        "    random.seed(25)\n",
        "    print(random.choice(dice))"
      ],
      "metadata": {
        "colab": {
          "base_uri": "https://localhost:8080/"
        },
        "id": "timCSKutbMbM",
        "outputId": "4fe00a44-20a1-4f6a-d1ff-56cc5f0d1302"
      },
      "execution_count": 19,
      "outputs": [
        {
          "output_type": "stream",
          "name": "stdout",
          "text": [
            "Randomly selecting same number of a dice\n",
            "4\n",
            "4\n",
            "4\n",
            "4\n",
            "4\n"
          ]
        }
      ]
    },
    {
      "cell_type": "code",
      "source": [
        "# Exercise 10: Generate Random Date\n",
        "\n",
        "import time\n",
        "\n",
        "def getRandomDate(startDate, endDate ):\n",
        "    print(\"Printing random date between\", startDate, \" and \", endDate)\n",
        "    randomGenerator = random.random()\n",
        "    dateFormat = '%m/%d/%Y'\n",
        "\n",
        "    startTime = time.mktime(time.strptime(startDate, dateFormat))\n",
        "    endTime = time.mktime(time.strptime(endDate, dateFormat))\n",
        "\n",
        "    randomTime = startTime + randomGenerator * (endTime - startTime)\n",
        "    randomDate = time.strftime(dateFormat, time.localtime(randomTime))\n",
        "    return randomDate\n",
        "\n",
        "print (\"Random Date = \", getRandomDate(\"1/1/2016\", \"12/12/2018\"))"
      ],
      "metadata": {
        "colab": {
          "base_uri": "https://localhost:8080/"
        },
        "id": "YrySaEmNbV2u",
        "outputId": "a2aa3051-d875-46c1-daa0-fdc9a8235805"
      },
      "execution_count": 21,
      "outputs": [
        {
          "output_type": "stream",
          "name": "stdout",
          "text": [
            "Printing random date between 1/1/2016  and  12/12/2018\n",
            "Random Date =  06/26/2018\n"
          ]
        }
      ]
    }
  ]
}