{
  "nbformat": 4,
  "nbformat_minor": 0,
  "metadata": {
    "colab": {
      "provenance": []
    },
    "kernelspec": {
      "name": "python3",
      "display_name": "Python 3"
    },
    "language_info": {
      "name": "python"
    }
  },
  "cells": [
    {
      "cell_type": "code",
      "execution_count": 10,
      "metadata": {
        "id": "fvTLhxC-nI8N"
      },
      "outputs": [],
      "source": [
        "from datetime import datetime, timedelta"
      ]
    },
    {
      "cell_type": "code",
      "source": [
        "# Exercise 1: Print Current Date and Time\n",
        "\n",
        "print(datetime.now())"
      ],
      "metadata": {
        "colab": {
          "base_uri": "https://localhost:8080/"
        },
        "id": "tw8Q8q6wnlEt",
        "outputId": "d9791d45-b4ae-4f62-eead-dc60332c34da"
      },
      "execution_count": 2,
      "outputs": [
        {
          "output_type": "stream",
          "name": "stdout",
          "text": [
            "2025-08-21 21:53:47.372069\n"
          ]
        }
      ]
    },
    {
      "cell_type": "code",
      "source": [
        "# Exercise 2: Convert String Into Datetime Object\n",
        "\n",
        "date_string = \"Feb 25 2020 4:20PM\"\n",
        "datetime_object = datetime.strptime(date_string, '%b %d %Y %I:%M%p')\n",
        "print(datetime_object)"
      ],
      "metadata": {
        "colab": {
          "base_uri": "https://localhost:8080/"
        },
        "id": "2JQOv7QXn6i1",
        "outputId": "c52c0104-90cd-401d-b6e2-a9f9cc72028d"
      },
      "execution_count": 3,
      "outputs": [
        {
          "output_type": "stream",
          "name": "stdout",
          "text": [
            "2020-02-25 16:20:00\n"
          ]
        }
      ]
    },
    {
      "cell_type": "code",
      "source": [
        "# Exercise 3: Subtract a Week From a Given Date\n",
        "\n",
        "given_date = datetime(2020, 2, 25)\n",
        "print(\"Given date\")\n",
        "print(given_date)\n",
        "\n",
        "days_to_subtract = 7\n",
        "res_date = given_date - timedelta(days=days_to_subtract)\n",
        "print(\"New Date\")\n",
        "print(res_date)"
      ],
      "metadata": {
        "colab": {
          "base_uri": "https://localhost:8080/"
        },
        "id": "apIvwJ81oVGy",
        "outputId": "533fc959-145e-4416-e31a-29c29141c584"
      },
      "execution_count": 5,
      "outputs": [
        {
          "output_type": "stream",
          "name": "stdout",
          "text": [
            "Given date\n",
            "2020-02-25 00:00:00\n",
            "New Date\n",
            "2020-02-18 00:00:00\n"
          ]
        }
      ]
    },
    {
      "cell_type": "code",
      "source": [
        "# Exercise 4: Format DateTime\n",
        "\n",
        "given_date = datetime(2020, 2, 25)\n",
        "print(\"Given date is\")\n",
        "print(given_date.strftime('%A %d %B %Y'))"
      ],
      "metadata": {
        "colab": {
          "base_uri": "https://localhost:8080/"
        },
        "id": "jeuy6_ysolIn",
        "outputId": "416461b9-8365-42c3-ae08-cdb6118a10cc"
      },
      "execution_count": 8,
      "outputs": [
        {
          "output_type": "stream",
          "name": "stdout",
          "text": [
            "Given date is\n",
            "Tuesday 25 February 2020\n"
          ]
        }
      ]
    },
    {
      "cell_type": "code",
      "source": [
        "# Exercise 5: Find Day of Week\n",
        "\n",
        "given_date = datetime(2020, 7, 26)\n",
        "print(given_date.today().weekday())\n",
        "print(given_date.strftime('%A'))"
      ],
      "metadata": {
        "colab": {
          "base_uri": "https://localhost:8080/"
        },
        "id": "E4fGJidppBmf",
        "outputId": "65f71635-605c-4b22-93f8-4c99a2b0304a"
      },
      "execution_count": 9,
      "outputs": [
        {
          "output_type": "stream",
          "name": "stdout",
          "text": [
            "3\n",
            "Sunday\n"
          ]
        }
      ]
    },
    {
      "cell_type": "code",
      "source": [
        "# Exercise 6: Add Week to Given Date\n",
        "\n",
        "given_date = datetime(2020, 3, 22, 10, 00, 00)\n",
        "print(\"Given date\")\n",
        "print(given_date)\n",
        "\n",
        "days_to_add = 7\n",
        "res_date = given_date + timedelta(days=days_to_add, hours=12)\n",
        "print(\"New Date\")\n",
        "print(res_date)"
      ],
      "metadata": {
        "colab": {
          "base_uri": "https://localhost:8080/"
        },
        "id": "bnhc89PbpLF4",
        "outputId": "477fef48-a999-47e6-ed8a-4f74ebcc81b5"
      },
      "execution_count": 11,
      "outputs": [
        {
          "output_type": "stream",
          "name": "stdout",
          "text": [
            "Given date\n",
            "2020-03-22 10:00:00\n",
            "New Date\n",
            "2020-03-29 22:00:00\n"
          ]
        }
      ]
    },
    {
      "cell_type": "code",
      "source": [
        "# Exercise 7: Print Current Time in Milliseconds\n",
        "\n",
        "import time\n",
        "\n",
        "milliseconds = int(round(time.time() * 1000))\n",
        "print(milliseconds)"
      ],
      "metadata": {
        "colab": {
          "base_uri": "https://localhost:8080/"
        },
        "id": "8Msp7MnxpV5T",
        "outputId": "20ff338b-be3f-43f9-dfd3-c0e4642b56a8"
      },
      "execution_count": 12,
      "outputs": [
        {
          "output_type": "stream",
          "name": "stdout",
          "text": [
            "1755813617089\n"
          ]
        }
      ]
    },
    {
      "cell_type": "code",
      "source": [
        "# Exercise 8: Convert Datetime into String\n",
        "\n",
        "given_date = datetime(2020, 2, 25)\n",
        "string_date = given_date.strftime(\"%Y-%m-%d %H:%M:%S\")\n",
        "print(string_date)"
      ],
      "metadata": {
        "colab": {
          "base_uri": "https://localhost:8080/"
        },
        "id": "10E7FLhspZrq",
        "outputId": "5df75144-0118-430c-ea1e-dd61f56ac0d4"
      },
      "execution_count": 13,
      "outputs": [
        {
          "output_type": "stream",
          "name": "stdout",
          "text": [
            "2020-02-25 00:00:00\n"
          ]
        }
      ]
    },
    {
      "cell_type": "code",
      "source": [
        "# Exercise 9: Calculate the date 4 months from the current date\n",
        "\n",
        "from dateutil.relativedelta import relativedelta\n",
        "\n",
        "given_date = datetime(2020, 2, 25).date()\n",
        "\n",
        "months_to_add = 4\n",
        "new_date = given_date + relativedelta(months=+ months_to_add)\n",
        "print(new_date)"
      ],
      "metadata": {
        "colab": {
          "base_uri": "https://localhost:8080/"
        },
        "id": "9XESPXXJpdz7",
        "outputId": "84779e13-ebab-4b56-8154-61aa7a6b6312"
      },
      "execution_count": 14,
      "outputs": [
        {
          "output_type": "stream",
          "name": "stdout",
          "text": [
            "2020-06-25\n"
          ]
        }
      ]
    },
    {
      "cell_type": "code",
      "source": [
        "# Exercise 10: Calculate Days Between Two Dates\n",
        "\n",
        "date_1 = datetime(2020, 2, 25).date()\n",
        "date_2 = datetime(2020, 9, 17).date()\n",
        "\n",
        "delta = None\n",
        "if date_1 > date_2:\n",
        "    print(\"date_1 is greater\")\n",
        "    delta = date_1 - date_2\n",
        "else:\n",
        "    print(\"date_2 is greater\")\n",
        "    delta = date_2 - date_1\n",
        "print(\"Difference is\", delta.days, \"days\")"
      ],
      "metadata": {
        "colab": {
          "base_uri": "https://localhost:8080/"
        },
        "id": "HYO_v-ALpjXL",
        "outputId": "a1bb9a31-728b-481b-db27-d919f05b3238"
      },
      "execution_count": 15,
      "outputs": [
        {
          "output_type": "stream",
          "name": "stdout",
          "text": [
            "date_2 is greater\n",
            "Difference is 205 days\n"
          ]
        }
      ]
    }
  ]
}