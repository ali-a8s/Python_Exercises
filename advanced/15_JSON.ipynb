{
  "nbformat": 4,
  "nbformat_minor": 0,
  "metadata": {
    "colab": {
      "provenance": []
    },
    "kernelspec": {
      "name": "python3",
      "display_name": "Python 3"
    },
    "language_info": {
      "name": "python"
    }
  },
  "cells": [
    {
      "cell_type": "code",
      "source": [
        "import json"
      ],
      "metadata": {
        "id": "YQVQ6UAmHOMU"
      },
      "execution_count": 1,
      "outputs": []
    },
    {
      "cell_type": "code",
      "execution_count": 3,
      "metadata": {
        "colab": {
          "base_uri": "https://localhost:8080/"
        },
        "id": "dcpGLFhoG11T",
        "outputId": "0ad86f44-29be-4ebe-a38c-34e9c382a3b1"
      },
      "outputs": [
        {
          "output_type": "stream",
          "name": "stdout",
          "text": [
            "{\"key1\": \"value1\", \"key2\": \"value2\"}\n"
          ]
        }
      ],
      "source": [
        "# Exercise 1: Convert the following dictionary into JSON format\n",
        "\n",
        "data = {\"key1\" : \"value1\", \"key2\" : \"value2\"}\n",
        "\n",
        "r = json.dumps(data)\n",
        "\n",
        "print(r)"
      ]
    },
    {
      "cell_type": "code",
      "source": [
        "# Exercise 2: Access the value of key2 from the following JSON\n",
        "\n",
        "sampleJson = \"\"\"{\"key1\": \"value1\", \"key2\": \"value2\"}\"\"\"\n",
        "\n",
        "data = json.loads(sampleJson)\n",
        "print(data['key2'])"
      ],
      "metadata": {
        "colab": {
          "base_uri": "https://localhost:8080/"
        },
        "id": "_LEn6-hGHqgN",
        "outputId": "26d28811-934e-4631-adcc-c98972186e75"
      },
      "execution_count": 4,
      "outputs": [
        {
          "output_type": "stream",
          "name": "stdout",
          "text": [
            "value2\n"
          ]
        }
      ]
    },
    {
      "cell_type": "code",
      "source": [
        "# Exercise 3: PrettyPrint following JSON data\n",
        "\n",
        "sampleJson = {\"key1\": \"value1\", \"key2\": \"value2\"}\n",
        "\n",
        "r = json.dumps(sampleJson, indent=2, separators=(\",\", \" = \"))\n",
        "print(r)"
      ],
      "metadata": {
        "colab": {
          "base_uri": "https://localhost:8080/"
        },
        "id": "hHSutPSMICrs",
        "outputId": "e2025960-9b40-4d20-c3c0-2fe9bdc9d1af"
      },
      "execution_count": 5,
      "outputs": [
        {
          "output_type": "stream",
          "name": "stdout",
          "text": [
            "{\n",
            "  \"key1\" = \"value1\",\n",
            "  \"key2\" = \"value2\"\n",
            "}\n"
          ]
        }
      ]
    },
    {
      "cell_type": "code",
      "source": [
        "# Exercise 4: Sort JSON keys in and write them into a file\n",
        "\n",
        "sampleJson = {\"id\" : 1, \"name\" : \"value2\", \"age\" : 29}\n",
        "\n",
        "print(\"Started writing JSON data into a file\")\n",
        "with open(\"sampleJson.json\", \"w\") as write_file:\n",
        "    json.dump(sampleJson, write_file, indent=4, sort_keys=True)\n",
        "print(\"Done writing JSON data into a file\")"
      ],
      "metadata": {
        "colab": {
          "base_uri": "https://localhost:8080/"
        },
        "id": "ywpNY27HJDA7",
        "outputId": "c7a60b01-b0fa-4364-89da-4df753cc9564"
      },
      "execution_count": 6,
      "outputs": [
        {
          "output_type": "stream",
          "name": "stdout",
          "text": [
            "Started writing JSON data into a file\n",
            "Done writing JSON data into a file\n"
          ]
        }
      ]
    },
    {
      "cell_type": "code",
      "source": [
        "# Exercise 5: Access the nested key ‘salary’ from the following JSON\n",
        "\n",
        "sampleJson = \"\"\"{\n",
        "   \"company\":{\n",
        "      \"employee\":{\n",
        "         \"name\":\"emma\",\n",
        "         \"payble\":{\n",
        "            \"salary\":7000,\n",
        "            \"bonus\":800\n",
        "         }\n",
        "      }\n",
        "   }\n",
        "}\"\"\"\n",
        "\n",
        "data = json.loads(sampleJson)\n",
        "print(data['company']['employee']['payble']['salary'])"
      ],
      "metadata": {
        "colab": {
          "base_uri": "https://localhost:8080/"
        },
        "id": "s7jSTjG-JvGk",
        "outputId": "f736adb9-4701-4828-ba23-c531d9c8d01f"
      },
      "execution_count": 7,
      "outputs": [
        {
          "output_type": "stream",
          "name": "stdout",
          "text": [
            "7000\n"
          ]
        }
      ]
    },
    {
      "cell_type": "code",
      "source": [
        "# Exercise 6: Convert the following Vehicle Object into JSON\n",
        "\n",
        "from json import JSONEncoder\n",
        "\n",
        "class Vehicle:\n",
        "    def __init__(self, name, engine, price):\n",
        "        self.name = name\n",
        "        self.engine = engine\n",
        "        self.price = price\n",
        "\n",
        "class VehicleEncoder(JSONEncoder):\n",
        "        def default(self, o):\n",
        "            return o.__dict__\n",
        "\n",
        "vehicle = Vehicle(\"Toyota Rav4\", \"2.5L\", 32000)\n",
        "\n",
        "print(\"Encode Vehicle Object into JSON\")\n",
        "vehicleJson = json.dumps(vehicle, indent=4, cls=VehicleEncoder)\n",
        "print(vehicleJson)"
      ],
      "metadata": {
        "colab": {
          "base_uri": "https://localhost:8080/"
        },
        "id": "tXq-9vNsKgXz",
        "outputId": "bb33b57d-a654-414e-f010-14d4f598d18b"
      },
      "execution_count": 8,
      "outputs": [
        {
          "output_type": "stream",
          "name": "stdout",
          "text": [
            "Encode Vehicle Object into JSON\n",
            "{\n",
            "    \"name\": \"Toyota Rav4\",\n",
            "    \"engine\": \"2.5L\",\n",
            "    \"price\": 32000\n",
            "}\n"
          ]
        }
      ]
    },
    {
      "cell_type": "code",
      "source": [
        "# Exercise 7: Convert the following JSON into Vehicle Object\n",
        "\n",
        "class Vehicle:\n",
        "    def __init__(self, name, engine, price):\n",
        "        self.name = name\n",
        "        self.engine = engine\n",
        "        self.price = price\n",
        "\n",
        "def vehicleDecoder(obj):\n",
        "        return Vehicle(obj['name'], obj['engine'], obj['price'])\n",
        "\n",
        "vehicleObj = json.loads('{ \"name\": \"Toyota Rav4\", \"engine\": \"2.5L\", \"price\": 32000 }',\n",
        "           object_hook=vehicleDecoder)\n",
        "\n",
        "print(\"Type of decoded object from JSON Data\")\n",
        "print(type(vehicleObj))\n",
        "print(\"Vehicle Details\")\n",
        "print(vehicleObj.name, vehicleObj.engine, vehicleObj.price)"
      ],
      "metadata": {
        "colab": {
          "base_uri": "https://localhost:8080/"
        },
        "id": "VBqkuUGBKpqL",
        "outputId": "208e5b8f-e75b-4576-f96d-c0d159b0d0ce"
      },
      "execution_count": 9,
      "outputs": [
        {
          "output_type": "stream",
          "name": "stdout",
          "text": [
            "Type of decoded object from JSON Data\n",
            "<class '__main__.Vehicle'>\n",
            "Vehicle Details\n",
            "Toyota Rav4 2.5L 32000\n"
          ]
        }
      ]
    },
    {
      "cell_type": "code",
      "source": [
        "# Exercise 8: Check whether following json is valid or invalid. If Invalid correct it\n",
        "\n",
        "def validateJSON(jsonData):\n",
        "    try:\n",
        "        json.loads(jsonData)\n",
        "    except ValueError as err:\n",
        "        return False\n",
        "    return True\n",
        "\n",
        "InvalidJsonData = \"\"\"{ \"company\":{ \"employee\":{ \"name\":\"emma\", \"payble\":{ \"salary\":7000 \"bonus\":800} } } }\"\"\"\n",
        "isValid = validateJSON(InvalidJsonData)\n",
        "\n",
        "print(\"Given JSON string is Valid\", isValid)"
      ],
      "metadata": {
        "colab": {
          "base_uri": "https://localhost:8080/"
        },
        "id": "5wgWqVuyKuqI",
        "outputId": "48d3c712-4a5d-4088-ce6d-3763a8f292d7"
      },
      "execution_count": 10,
      "outputs": [
        {
          "output_type": "stream",
          "name": "stdout",
          "text": [
            "Given JSON string is Valid False\n"
          ]
        }
      ]
    },
    {
      "cell_type": "code",
      "source": [
        "# Exercise 9: Parse the following JSON to get all the values of a key ‘name’ within an array\n",
        "\n",
        "import json\n",
        "\n",
        "sampleJson = \"\"\"[\n",
        "   {\n",
        "      \"id\":1,\n",
        "      \"name\":\"name1\",\n",
        "      \"color\":[\n",
        "         \"red\",\n",
        "         \"green\"\n",
        "      ]\n",
        "   },\n",
        "   {\n",
        "      \"id\":2,\n",
        "      \"name\":\"name2\",\n",
        "      \"color\":[\n",
        "         \"pink\",\n",
        "         \"yellow\"\n",
        "      ]\n",
        "   }\n",
        "]\"\"\"\n",
        "\n",
        "data = []\n",
        "try:\n",
        "    data = json.loads(sampleJson)\n",
        "except Exception as e:\n",
        "    print(e)\n",
        "\n",
        "dataList = [item.get('name') for item in data]\n",
        "print(dataList)"
      ],
      "metadata": {
        "colab": {
          "base_uri": "https://localhost:8080/"
        },
        "id": "e9uJu4CIK03a",
        "outputId": "2745b743-660d-416b-cc8f-532d06065cd6"
      },
      "execution_count": 11,
      "outputs": [
        {
          "output_type": "stream",
          "name": "stdout",
          "text": [
            "['name1', 'name2']\n"
          ]
        }
      ]
    }
  ]
}