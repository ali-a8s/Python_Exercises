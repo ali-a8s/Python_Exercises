{
  "nbformat": 4,
  "nbformat_minor": 0,
  "metadata": {
    "colab": {
      "provenance": []
    },
    "kernelspec": {
      "name": "python3",
      "display_name": "Python 3"
    },
    "language_info": {
      "name": "python"
    }
  },
  "cells": [
    {
      "cell_type": "code",
      "execution_count": 1,
      "metadata": {
        "id": "wJnB1eN7-Xd3"
      },
      "outputs": [],
      "source": [
        "import numpy as np"
      ]
    },
    {
      "cell_type": "code",
      "source": [
        "# Exercise 1: Create a 4X2 integer array and Prints its attributes\n",
        "# The shape of an array.\n",
        "# Array dimensions.\n",
        "# The Length of each element of the array in bytes.\n",
        "\n",
        "arr = np.random.randint(1, 10, size= (4,2))\n",
        "print(arr)\n",
        "print(f\"\\nshape: {arr.shape}\")\n",
        "print(f\"dimensions: {arr.ndim}\")\n",
        "print(f\"length of each element: {arr.itemsize}\")"
      ],
      "metadata": {
        "colab": {
          "base_uri": "https://localhost:8080/"
        },
        "id": "gMhtWW0J-hRi",
        "outputId": "bcd6ed75-d740-47ff-918e-bfe721064b38"
      },
      "execution_count": 5,
      "outputs": [
        {
          "output_type": "stream",
          "name": "stdout",
          "text": [
            "[[9 5]\n",
            " [7 9]\n",
            " [3 7]\n",
            " [9 5]]\n",
            "\n",
            "shape: (4, 2)\n",
            "dimensions: 2\n",
            "length of each element: 8\n"
          ]
        }
      ]
    },
    {
      "cell_type": "code",
      "source": [
        "# Exercise 2: Create a 5X2 integer array from a range between 100 to 200\n",
        "# such that the difference between each element is 10\n",
        "\n",
        "print(np.arange(100, 200, 10).reshape(5,2))"
      ],
      "metadata": {
        "colab": {
          "base_uri": "https://localhost:8080/"
        },
        "id": "00uxFXHt-yFz",
        "outputId": "359e8ca6-39d1-43f8-8a8f-3cf253eb9fde"
      },
      "execution_count": 7,
      "outputs": [
        {
          "output_type": "stream",
          "name": "stdout",
          "text": [
            "[[100 110]\n",
            " [120 130]\n",
            " [140 150]\n",
            " [160 170]\n",
            " [180 190]]\n"
          ]
        }
      ]
    },
    {
      "cell_type": "code",
      "source": [
        "# Exercise 3: Following is the provided numPy array.\n",
        "# eturn array of items by taking the third column from all rows\n",
        "\n",
        "arr = np.array([[11 ,22, 33], [44, 55, 66], [77, 88, 99]])\n",
        "\n",
        "print(f\"array: \\n{arr}\\n\")\n",
        "print(f\"third column: {arr[:,2]}\")"
      ],
      "metadata": {
        "colab": {
          "base_uri": "https://localhost:8080/"
        },
        "id": "j988rPA8_Zki",
        "outputId": "8a8c52fe-6017-49d0-c266-352ec69ce972"
      },
      "execution_count": 9,
      "outputs": [
        {
          "output_type": "stream",
          "name": "stdout",
          "text": [
            "array: \n",
            "[[11 22 33]\n",
            " [44 55 66]\n",
            " [77 88 99]]\n",
            "\n",
            "third column: [33 66 99]\n"
          ]
        }
      ]
    },
    {
      "cell_type": "code",
      "source": [
        "# Exercise 4: Return array of odd rows and even columns from below numpy array\n",
        "\n",
        "arr = np.array([[3 ,6, 9, 12],\n",
        "                [15 ,18, 21, 24],\n",
        "                [27 ,30, 33, 36],\n",
        "                [39 ,42, 45, 48],\n",
        "                [51 ,54, 57, 60]])\n",
        "\n",
        "res = arr[0::2,1::2]\n",
        "\n",
        "print(f\"array: \\n{arr}\\n\")\n",
        "print(f\"result: \\n{res}\")"
      ],
      "metadata": {
        "colab": {
          "base_uri": "https://localhost:8080/"
        },
        "id": "6Bn12cVW_t3o",
        "outputId": "2b3454b5-24e5-4649-9d54-b3ffaaf33ecf"
      },
      "execution_count": 14,
      "outputs": [
        {
          "output_type": "stream",
          "name": "stdout",
          "text": [
            "array: \n",
            "[[ 3  6  9 12]\n",
            " [15 18 21 24]\n",
            " [27 30 33 36]\n",
            " [39 42 45 48]\n",
            " [51 54 57 60]]\n",
            "\n",
            "result: \n",
            "[[ 6 12]\n",
            " [30 36]\n",
            " [54 60]]\n"
          ]
        }
      ]
    },
    {
      "cell_type": "code",
      "source": [
        "# Exercise 5: Create a result array by adding the following two NumPy arrays.\n",
        "# Next, modify the result array by calculating the square of each element\n",
        "\n",
        "arr1 = np.array([[5, 6, 9], [21 ,18, 27]])\n",
        "arr2 = np.array([[15 ,33, 24], [4 ,7, 1]])\n",
        "\n",
        "adding = arr1 + arr2\n",
        "print(f\"addition of two arrays is \\n{adding}\\n\")\n",
        "\n",
        "sqr = adding ** 2\n",
        "print(f\"square root of all elements \\n{sqr}\")"
      ],
      "metadata": {
        "colab": {
          "base_uri": "https://localhost:8080/"
        },
        "id": "5gUDr62wAOBn",
        "outputId": "73764bde-7cf6-41f6-d0b5-43e46b87bf92"
      },
      "execution_count": 16,
      "outputs": [
        {
          "output_type": "stream",
          "name": "stdout",
          "text": [
            "addition of two arrays is \n",
            "[[20 39 33]\n",
            " [25 25 28]]\n",
            "\n",
            "square root of all elements \n",
            "[[ 400 1521 1089]\n",
            " [ 625  625  784]]\n"
          ]
        }
      ]
    },
    {
      "cell_type": "code",
      "source": [
        "# Exercise 6: Split the array into four equal-sized sub-arrays\n",
        "# 8X3 integer array from a range between 10 to 34, difference between each element is 1\n",
        "\n",
        "arr = np.arange(10,34).reshape(8,3)\n",
        "\n",
        "print(f\"array: \\n{arr}\\n\")\n",
        "\n",
        "print(np.split(arr, 4))"
      ],
      "metadata": {
        "colab": {
          "base_uri": "https://localhost:8080/"
        },
        "id": "r7Pzg_AUA-Mo",
        "outputId": "bb04ebff-fa68-46c2-ea42-87a4e3b9baed"
      },
      "execution_count": 19,
      "outputs": [
        {
          "output_type": "stream",
          "name": "stdout",
          "text": [
            "array: \n",
            "[[10 11 12]\n",
            " [13 14 15]\n",
            " [16 17 18]\n",
            " [19 20 21]\n",
            " [22 23 24]\n",
            " [25 26 27]\n",
            " [28 29 30]\n",
            " [31 32 33]]\n",
            "\n",
            "[array([[10, 11, 12],\n",
            "       [13, 14, 15]]), array([[16, 17, 18],\n",
            "       [19, 20, 21]]), array([[22, 23, 24],\n",
            "       [25, 26, 27]]), array([[28, 29, 30],\n",
            "       [31, 32, 33]])]\n"
          ]
        }
      ]
    },
    {
      "cell_type": "code",
      "source": [
        "# Exercise 7: Sort following NumPy array\n",
        "# by the second row\n",
        "# by the second column\n",
        "\n",
        "arr = np.array([[34,43,73],[82,22,12],[53,94,66]])\n",
        "\n",
        "print(f\"original: \\n{arr}\\n\")\n",
        "\n",
        "row = arr[:,arr[1,:].argsort()]\n",
        "print(f\"Sorting Original array by secoond row: \\n{row}\\n\")\n",
        "\n",
        "col = arr[arr[:,1].argsort()]\n",
        "print(f\"Sorting Original array by secoond column: \\n{col}\\n\")"
      ],
      "metadata": {
        "colab": {
          "base_uri": "https://localhost:8080/"
        },
        "id": "JkLethbWBQzr",
        "outputId": "baf5f782-1c06-4597-a738-f73efa20557b"
      },
      "execution_count": 21,
      "outputs": [
        {
          "output_type": "stream",
          "name": "stdout",
          "text": [
            "original: \n",
            "[[34 43 73]\n",
            " [82 22 12]\n",
            " [53 94 66]]\n",
            "\n",
            "Sorting Original array by secoond row: \n",
            "[[73 43 34]\n",
            " [12 22 82]\n",
            " [66 94 53]]\n",
            "\n",
            "Sorting Original array by secoond column: \n",
            "[[82 22 12]\n",
            " [34 43 73]\n",
            " [53 94 66]]\n",
            "\n"
          ]
        }
      ]
    },
    {
      "cell_type": "code",
      "source": [
        "# Exercise 8: Print max from axis 0 and min from axis 1 from the following 2-D array.\n",
        "\n",
        "arr = np.array([[34,43,73],\n",
        "                [82,22,12],\n",
        "                [53,94,66]])\n",
        "\n",
        "print(f\"original: \\n{arr}\\n\")\n",
        "\n",
        "print(f\"max from axis 0: {arr.max(axis= 0)}\")\n",
        "print(f\"min from axis 1: {arr.min(axis= 1)}\")"
      ],
      "metadata": {
        "colab": {
          "base_uri": "https://localhost:8080/"
        },
        "id": "mwpz_8JZDSYb",
        "outputId": "bba7c83f-45f6-45a7-defd-5c82bc887a05"
      },
      "execution_count": 22,
      "outputs": [
        {
          "output_type": "stream",
          "name": "stdout",
          "text": [
            "original: \n",
            "[[34 43 73]\n",
            " [82 22 12]\n",
            " [53 94 66]]\n",
            "\n",
            "max from axis 0: [82 94 73]\n",
            "min from axis 1: [34 12 53]\n"
          ]
        }
      ]
    },
    {
      "cell_type": "code",
      "source": [
        "# Exercise 9: Delete the second column from a given array and insert the following new column in its place.\n",
        "\n",
        "arr = np.array([[34,43,73],\n",
        "                [82,22,12],\n",
        "                [53,94,66]])\n",
        "new_col = np.array([[10,10,10]])\n",
        "\n",
        "print(f\"original: \\n{arr}\\n\")\n",
        "new_arr = np.delete(arr, 1, axis= 1)\n",
        "print(f\"delete second col: \\n{new_arr}\\n\")\n",
        "result = np.insert(arr, 1, new_col, axis= 1)\n",
        "print(f\"inset new col: \\n{result}\\n\")"
      ],
      "metadata": {
        "colab": {
          "base_uri": "https://localhost:8080/"
        },
        "id": "t104VBN4D834",
        "outputId": "83993c8c-53d3-4d8b-af40-1e019aaccff1"
      },
      "execution_count": 25,
      "outputs": [
        {
          "output_type": "stream",
          "name": "stdout",
          "text": [
            "original: \n",
            "[[34 43 73]\n",
            " [82 22 12]\n",
            " [53 94 66]]\n",
            "\n",
            "delete second col: \n",
            "[[34 73]\n",
            " [82 12]\n",
            " [53 66]]\n",
            "\n",
            "inset new col: \n",
            "[[34 10 43 73]\n",
            " [82 10 22 12]\n",
            " [53 10 94 66]]\n",
            "\n"
          ]
        }
      ]
    }
  ]
}