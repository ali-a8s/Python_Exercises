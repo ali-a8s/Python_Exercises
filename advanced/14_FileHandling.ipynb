{
  "nbformat": 4,
  "nbformat_minor": 0,
  "metadata": {
    "colab": {
      "provenance": []
    },
    "kernelspec": {
      "name": "python3",
      "display_name": "Python 3"
    },
    "language_info": {
      "name": "python"
    }
  },
  "cells": [
    {
      "cell_type": "code",
      "execution_count": 2,
      "metadata": {
        "colab": {
          "base_uri": "https://localhost:8080/"
        },
        "id": "79JmKbzYCjRI",
        "outputId": "a616f0bc-4f11-48c5-eba4-c37afcdfa863"
      },
      "outputs": [
        {
          "output_type": "stream",
          "name": "stdout",
          "text": [
            "line1\n",
            "line2\n",
            "line3\n",
            "line4\n",
            "line5\n",
            "line6\n",
            "line7\n"
          ]
        }
      ],
      "source": [
        "# Exercise 1: Read a File\n",
        "\n",
        "with open('file.txt', 'r') as f:\n",
        "  content = f.read()\n",
        "  print(content)"
      ]
    },
    {
      "cell_type": "code",
      "source": [
        "# Exercise 2: Read File Line by\n",
        "\n",
        "with open('file.txt', 'r') as f:\n",
        "  for line in f:\n",
        "    print(line, end= \"\")\n"
      ],
      "metadata": {
        "colab": {
          "base_uri": "https://localhost:8080/"
        },
        "id": "O0ax4V7BDQf0",
        "outputId": "e0f45d3c-b797-4059-a44f-e318819324ad"
      },
      "execution_count": 3,
      "outputs": [
        {
          "output_type": "stream",
          "name": "stdout",
          "text": [
            "line1\n",
            "line2\n",
            "line3\n",
            "line4\n",
            "line5\n",
            "line6\n",
            "line7"
          ]
        }
      ]
    },
    {
      "cell_type": "code",
      "source": [
        "# Exercise 3: Read Specific Lines From a File\n",
        "\n",
        "with open('file.txt', 'r') as f:\n",
        "  for _ in range(5):\n",
        "    print(f.readline().strip())\n"
      ],
      "metadata": {
        "colab": {
          "base_uri": "https://localhost:8080/"
        },
        "id": "GgeScPRlDozK",
        "outputId": "32618e68-1c5d-413e-faaa-424e8d3c35e1"
      },
      "execution_count": 5,
      "outputs": [
        {
          "output_type": "stream",
          "name": "stdout",
          "text": [
            "line1\n",
            "line2\n",
            "line3\n",
            "line4\n",
            "line5\n"
          ]
        }
      ]
    },
    {
      "cell_type": "code",
      "source": [
        "# Exercise 4: Count Words From a File\n",
        "import re\n",
        "\n",
        "with open('file.txt', 'r') as f:\n",
        "  content = f.read().lower()\n",
        "  words = re.findall(r'\\b\\w+\\b', content)\n",
        "  print(len(words))"
      ],
      "metadata": {
        "colab": {
          "base_uri": "https://localhost:8080/"
        },
        "id": "X1PoQlkBEFpD",
        "outputId": "456f282e-ab0d-400d-c14b-00085829a78a"
      },
      "execution_count": 8,
      "outputs": [
        {
          "output_type": "stream",
          "name": "stdout",
          "text": [
            "7\n"
          ]
        }
      ]
    },
    {
      "cell_type": "code",
      "source": [
        "# Exercise 5: Count Total Number of Characters in File\n",
        "\n",
        "with open('file.txt', 'r') as f:\n",
        "  content = f.read()\n",
        "  print(len(content))"
      ],
      "metadata": {
        "colab": {
          "base_uri": "https://localhost:8080/"
        },
        "id": "5mY99HsXEZka",
        "outputId": "9953cc06-2287-409d-c413-141fcb67448b"
      },
      "execution_count": 9,
      "outputs": [
        {
          "output_type": "stream",
          "name": "stdout",
          "text": [
            "41\n"
          ]
        }
      ]
    },
    {
      "cell_type": "code",
      "source": [
        "# Exercise 7: Write To a File\n",
        "\n",
        "with open('sample.txt', 'w') as f:\n",
        "  f.write('hello, world')"
      ],
      "metadata": {
        "id": "-cVZ6pS3EqgG"
      },
      "execution_count": 10,
      "outputs": []
    },
    {
      "cell_type": "code",
      "source": [
        "# Exercise 8: Append To a File\n",
        "\n",
        "with open('sample.txt', 'a') as f:\n",
        "  f.write('this is another line')"
      ],
      "metadata": {
        "id": "0kSYeRxhFO2V"
      },
      "execution_count": 11,
      "outputs": []
    },
    {
      "cell_type": "code",
      "source": [
        "# Exercise 9: Copy a File\n",
        "\n",
        "with open('sample.txt', 'r') as source:\n",
        "  content = source.read()\n",
        "\n",
        "with open('sample_copy.txt', 'w') as destination:\n",
        "  destination.write(content)"
      ],
      "metadata": {
        "id": "ki_P9IUgFYuT"
      },
      "execution_count": 13,
      "outputs": []
    },
    {
      "cell_type": "code",
      "source": [
        "# Exercise 11: File Existence Check\n",
        "\n",
        "import os\n",
        "\n",
        "def check_file_exists(filename):\n",
        "    return os.path.exists(filename)\n",
        "\n",
        "filename = \"sample.txt\"\n",
        "exists = check_file_exists(filename)\n",
        "print(f\"Does '{filename}' exist? {exists}\")"
      ],
      "metadata": {
        "colab": {
          "base_uri": "https://localhost:8080/"
        },
        "id": "xDPgTO4kFprA",
        "outputId": "cad77753-4929-4825-fe8d-f3bfca6e1633"
      },
      "execution_count": 14,
      "outputs": [
        {
          "output_type": "stream",
          "name": "stdout",
          "text": [
            "Does 'sample.txt' exist? True\n"
          ]
        }
      ]
    },
    {
      "cell_type": "code",
      "source": [
        "# Exercise 12: Get File Size\n",
        "\n",
        "import os\n",
        "\n",
        "def get_file_size(filename):\n",
        "    try:\n",
        "        size_in_bytes = os.path.getsize(filename)\n",
        "        return size_in_bytes\n",
        "    except FileNotFoundError:\n",
        "        return f\"Error: '{filename}' not found.\"\n",
        "\n",
        "filename = \"sample.txt\"\n",
        "size = get_file_size(filename)\n",
        "print(f\"The size of '{filename}' is: {size} bytes.\")"
      ],
      "metadata": {
        "colab": {
          "base_uri": "https://localhost:8080/"
        },
        "id": "q0B4Hk60GEXE",
        "outputId": "2655d061-9c5e-4bf5-e214-1a6ed0a66886"
      },
      "execution_count": 15,
      "outputs": [
        {
          "output_type": "stream",
          "name": "stdout",
          "text": [
            "The size of 'sample.txt' is: 32 bytes.\n"
          ]
        }
      ]
    },
    {
      "cell_type": "code",
      "source": [
        "# Exercise 13: Rename a File\n",
        "\n",
        "import os\n",
        "\n",
        "def rename_file(old_filename, new_filename):\n",
        "    if not os.path.exists(old_filename):\n",
        "        return f\"Error: File '{old_filename}' not found.\"\n",
        "    try:\n",
        "        os.rename(old_filename, new_filename)\n",
        "        return f\"Successfully renamed '{old_filename}' to '{new_filename}'.\"\n",
        "    except Exception as e:\n",
        "        return f\"An error occurred while renaming: {e}\"\n",
        "\n",
        "old_name = \"sample_copy.txt\"\n",
        "new_name = \"sample_2.txt\""
      ],
      "metadata": {
        "id": "oAS9GluxGLiK"
      },
      "execution_count": 16,
      "outputs": []
    },
    {
      "cell_type": "code",
      "source": [
        "# Exercise 14: Delete a File\n",
        "\n",
        "import os\n",
        "\n",
        "def delete_file(filename):\n",
        "    if not os.path.exists(filename):\n",
        "        return f\"Error: File '{filename}' not found.\"\n",
        "    try:\n",
        "        os.remove(filename)\n",
        "        return f\"Successfully deleted '{filename}'.\"\n",
        "    except Exception as e:\n",
        "        return f\"An error occurred while deleting: {e}\"\n",
        "\n",
        "file_to_delete = \"temp_file.txt\"\n",
        "\n",
        "with open(file_to_delete, 'w') as f:\n",
        "    f.write(\"This file will be deleted.\")\n",
        "\n",
        "result = delete_file(file_to_delete)\n",
        "print(result)"
      ],
      "metadata": {
        "colab": {
          "base_uri": "https://localhost:8080/"
        },
        "id": "oIeAC4UrGWkx",
        "outputId": "f413c86a-80cf-4d33-ee10-f2ba96e26cdd"
      },
      "execution_count": 17,
      "outputs": [
        {
          "output_type": "stream",
          "name": "stdout",
          "text": [
            "Successfully deleted 'temp_file.txt'.\n"
          ]
        }
      ]
    },
    {
      "cell_type": "code",
      "source": [
        "# Exercise 15: Replace In File\n",
        "\n",
        "def replace_in_file(source_filename, destination_filename, old_word, new_word):\n",
        "    try:\n",
        "        with open(source_filename, 'r') as source_file:\n",
        "            content = source_file.read()\n",
        "        modified_content = content.replace(old_word, new_word)\n",
        "        with open(destination_filename, 'w') as destination_file:\n",
        "            destination_file.write(modified_content)\n",
        "        return f\"Successfully replaced '{old_word}' with '{new_word}' in '{source_filename}' and saved to '{destination_filename}'.\"\n",
        "    except FileNotFoundError:\n",
        "        return f\"Error: Source file '{source_filename}' not found.\"\n",
        "    except Exception as e:\n",
        "        return f\"An error occurred: {e}\"\n",
        "\n",
        "source_file = \"sample.txt\"\n",
        "destination_file = \"replaced_file.txt\"\n",
        "word_to_replace = \"old\"\n",
        "replacement_word = \"new\"\n",
        "\n",
        "with open(source_file, 'w') as f:\n",
        "    f.write(\"This is an old file with some old content.\")\n",
        "\n",
        "result = replace_in_file(source_file, destination_file, word_to_replace, replacement_word)\n",
        "print(result)"
      ],
      "metadata": {
        "colab": {
          "base_uri": "https://localhost:8080/"
        },
        "id": "aaQOlehtGhdS",
        "outputId": "9ff73d4d-f475-44fe-b445-ef423e9a2ed2"
      },
      "execution_count": 18,
      "outputs": [
        {
          "output_type": "stream",
          "name": "stdout",
          "text": [
            "Successfully replaced 'old' with 'new' in 'sample.txt' and saved to 'replaced_file.txt'.\n"
          ]
        }
      ]
    }
  ]
}