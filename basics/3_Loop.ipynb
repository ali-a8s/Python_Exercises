{
  "nbformat": 4,
  "nbformat_minor": 0,
  "metadata": {
    "colab": {
      "provenance": []
    },
    "kernelspec": {
      "name": "python3",
      "display_name": "Python 3"
    },
    "language_info": {
      "name": "python"
    }
  },
  "cells": [
    {
      "cell_type": "code",
      "execution_count": 2,
      "metadata": {
        "colab": {
          "base_uri": "https://localhost:8080/"
        },
        "id": "GxRabGKvmtIt",
        "outputId": "efe0711c-be8b-42ad-a164-34857ce3d912"
      },
      "outputs": [
        {
          "output_type": "stream",
          "name": "stdout",
          "text": [
            "1\n",
            "2\n",
            "3\n",
            "4\n",
            "5\n",
            "6\n",
            "7\n",
            "8\n",
            "9\n",
            "10\n"
          ]
        }
      ],
      "source": [
        "# Exercise 1: Print first 10 natural numbers using while loop\n",
        "\n",
        "for i in range(1, 11):\n",
        "  print(i)"
      ]
    },
    {
      "cell_type": "code",
      "source": [
        "# Exercise 2: Print the pattern\n",
        "\n",
        "for i in range(1, 6):\n",
        "  for j in range(1, i+1):\n",
        "    print(j, end=' ')\n",
        "  print(\"\")"
      ],
      "metadata": {
        "colab": {
          "base_uri": "https://localhost:8080/"
        },
        "id": "_UNLLVrQm1Fz",
        "outputId": "087070c1-f7bf-418f-ae04-586d3e18ec3d"
      },
      "execution_count": 6,
      "outputs": [
        {
          "output_type": "stream",
          "name": "stdout",
          "text": [
            "1 \n",
            "1 2 \n",
            "1 2 3 \n",
            "1 2 3 4 \n",
            "1 2 3 4 5 \n"
          ]
        }
      ]
    },
    {
      "cell_type": "code",
      "source": [
        "# Exercise 3: Calculate sum of all numbers from 1 to a given number\n",
        "\n",
        "given_number = int(input(\"enter the number: \"))\n",
        "\n",
        "sum = 0\n",
        "for num in range(1, given_number + 1):\n",
        "  sum += num\n",
        "\n",
        "print(f\"sum is: {sum}\")"
      ],
      "metadata": {
        "colab": {
          "base_uri": "https://localhost:8080/"
        },
        "id": "c_klc4vGnO4l",
        "outputId": "328df4d5-7aec-44f6-b859-d9485e6c5af6"
      },
      "execution_count": 8,
      "outputs": [
        {
          "output_type": "stream",
          "name": "stdout",
          "text": [
            "enter the number: 10\n",
            "sum is: 55\n"
          ]
        }
      ]
    },
    {
      "cell_type": "code",
      "source": [
        "# Exercise 4: Print multiplication table of a given number\n",
        "\n",
        "numb = int(input('enter number: '))\n",
        "\n",
        "for i in range(1, 11):\n",
        "  print(i * numb)"
      ],
      "metadata": {
        "colab": {
          "base_uri": "https://localhost:8080/"
        },
        "id": "TlmpRcjrn1Y4",
        "outputId": "c070ac30-1ed6-4bb8-dd21-a2e51687b743"
      },
      "execution_count": 9,
      "outputs": [
        {
          "output_type": "stream",
          "name": "stdout",
          "text": [
            "enter number: 2\n",
            "2\n",
            "4\n",
            "6\n",
            "8\n",
            "10\n",
            "12\n",
            "14\n",
            "16\n",
            "18\n",
            "20\n"
          ]
        }
      ]
    },
    {
      "cell_type": "code",
      "source": [
        "# Exercise 5: Display numbers from a list using a loop\n",
        "# The number must be divisible by five\n",
        "# If the number is greater than 150, then skip it and move to the following number\n",
        "# If the number is greater than 500, then stop the loop\n",
        "\n",
        "numbers = [12, 75, 150, 180, 145, 525, 50]\n",
        "\n",
        "for num in numbers:\n",
        "  if num > 500:\n",
        "    break\n",
        "  elif num > 150:\n",
        "    continue\n",
        "  elif num % 5 == 0:\n",
        "    print(num)"
      ],
      "metadata": {
        "colab": {
          "base_uri": "https://localhost:8080/"
        },
        "id": "d4doVHLooCJC",
        "outputId": "9adc455b-b0b2-476d-e7b0-872c148150b4"
      },
      "execution_count": 12,
      "outputs": [
        {
          "output_type": "stream",
          "name": "stdout",
          "text": [
            "75\n",
            "150\n",
            "145\n"
          ]
        }
      ]
    },
    {
      "cell_type": "code",
      "source": [
        "# Exercise 6: Count the total number of digits in a number\n",
        "\n",
        "num = 75869\n",
        "count = 0\n",
        "while num != 0:\n",
        "    num = num // 10\n",
        "    count = count + 1\n",
        "print(\"Total digits are:\", count)"
      ],
      "metadata": {
        "colab": {
          "base_uri": "https://localhost:8080/"
        },
        "id": "JHQulvSzo9z4",
        "outputId": "27e1ada5-ed4f-407c-c3c6-381d3b8add0b"
      },
      "execution_count": 17,
      "outputs": [
        {
          "output_type": "stream",
          "name": "stdout",
          "text": [
            "Total digits are: 5\n"
          ]
        }
      ]
    },
    {
      "cell_type": "code",
      "source": [
        "# Exercise 7: Print the pattern\n",
        "\n",
        "n = 5\n",
        "k = 5\n",
        "for i in range(0,n+1):\n",
        "    for j in range(k-i,0,-1):\n",
        "        print(j,end=' ')\n",
        "    print()"
      ],
      "metadata": {
        "colab": {
          "base_uri": "https://localhost:8080/"
        },
        "id": "ScY2HUXHpnaC",
        "outputId": "a04db6c0-b970-4669-a604-3fb8e07360cc"
      },
      "execution_count": 18,
      "outputs": [
        {
          "output_type": "stream",
          "name": "stdout",
          "text": [
            "5 4 3 2 1 \n",
            "4 3 2 1 \n",
            "3 2 1 \n",
            "2 1 \n",
            "1 \n",
            "\n"
          ]
        }
      ]
    },
    {
      "cell_type": "code",
      "source": [
        "# Exercise 8: Print list in reverse order using a loop\n",
        "\n",
        "list1 = [10, 20, 30, 40, 50]\n",
        "new_list = reversed(list1)\n",
        "for item in new_list:\n",
        "    print(item)\n"
      ],
      "metadata": {
        "colab": {
          "base_uri": "https://localhost:8080/"
        },
        "id": "xHR8TklnpuHc",
        "outputId": "a2267e50-8ef4-413e-8382-93780c08a688"
      },
      "execution_count": 23,
      "outputs": [
        {
          "output_type": "stream",
          "name": "stdout",
          "text": [
            "50\n",
            "40\n",
            "30\n",
            "20\n",
            "10\n"
          ]
        }
      ]
    },
    {
      "cell_type": "code",
      "source": [
        "# Exercise 9: Display numbers from -10 to -1 using for loop\n",
        "\n",
        "for num in range(-10, 0, 1):\n",
        "    print(num)"
      ],
      "metadata": {
        "colab": {
          "base_uri": "https://localhost:8080/"
        },
        "id": "Hi2s6FfWqOGU",
        "outputId": "fc77e928-1f1c-4a12-f6c9-99894df967d1"
      },
      "execution_count": 24,
      "outputs": [
        {
          "output_type": "stream",
          "name": "stdout",
          "text": [
            "-10\n",
            "-9\n",
            "-8\n",
            "-7\n",
            "-6\n",
            "-5\n",
            "-4\n",
            "-3\n",
            "-2\n",
            "-1\n"
          ]
        }
      ]
    },
    {
      "cell_type": "code",
      "source": [
        "# Exercise 10: Display a message “Done” after the successful execution of the for loop\n",
        "\n",
        "for i in range(5):\n",
        "    print(i)\n",
        "print(\"Done\")"
      ],
      "metadata": {
        "colab": {
          "base_uri": "https://localhost:8080/"
        },
        "id": "q5_Muep6qSZe",
        "outputId": "08739887-07df-4caa-fc55-d504a29f474b"
      },
      "execution_count": 26,
      "outputs": [
        {
          "output_type": "stream",
          "name": "stdout",
          "text": [
            "0\n",
            "1\n",
            "2\n",
            "3\n",
            "4\n",
            "Done\n"
          ]
        }
      ]
    },
    {
      "cell_type": "code",
      "source": [
        "# Exercise 11: Print all prime numbers within a range\n",
        "\n",
        "start = 25\n",
        "end = 50\n",
        "print(\"Prime numbers between\", start, \"and\", end, \"are:\")\n",
        "\n",
        "for num in range(start, end + 1):\n",
        "    if num > 1:\n",
        "        for i in range(2, num):\n",
        "            if (num % i) == 0:\n",
        "                break\n",
        "        else:\n",
        "            print(num)"
      ],
      "metadata": {
        "colab": {
          "base_uri": "https://localhost:8080/"
        },
        "id": "Mn88F_V_qh8R",
        "outputId": "9f5f8689-096f-427d-fcdd-cc9cd7db7152"
      },
      "execution_count": 28,
      "outputs": [
        {
          "output_type": "stream",
          "name": "stdout",
          "text": [
            "Prime numbers between 25 and 50 are:\n",
            "29\n",
            "31\n",
            "37\n",
            "41\n",
            "43\n",
            "47\n"
          ]
        }
      ]
    },
    {
      "cell_type": "code",
      "source": [
        "# Exercise 12: Display Fibonacci series up to 10 terms\n",
        "\n",
        "num1, num2 = 0, 1\n",
        "\n",
        "print(\"Fibonacci sequence:\")\n",
        "for i in range(10):\n",
        "    print(num1, end=\"  \")\n",
        "    res = num1 + num2\n",
        "    num1 = num2\n",
        "    num2 = res"
      ],
      "metadata": {
        "colab": {
          "base_uri": "https://localhost:8080/"
        },
        "id": "L2whxCaKqs54",
        "outputId": "82596d03-4679-4f0d-ca5f-b438c04c1356"
      },
      "execution_count": 29,
      "outputs": [
        {
          "output_type": "stream",
          "name": "stdout",
          "text": [
            "Fibonacci sequence:\n",
            "0  1  1  2  3  5  8  13  21  34  "
          ]
        }
      ]
    },
    {
      "cell_type": "code",
      "source": [
        "# Exercise 13: Find the factorial of a given number\n",
        "\n",
        "num = 5\n",
        "factorial = 1\n",
        "if num < 0:\n",
        "    print(\"Factorial does not exist for negative numbers\")\n",
        "elif num == 0:\n",
        "    print(\"The factorial of 0 is 1\")\n",
        "else:\n",
        "    for i in range(1, num + 1):\n",
        "        factorial *= i\n",
        "    print(\"The factorial of\", num, \"is\", factorial)"
      ],
      "metadata": {
        "colab": {
          "base_uri": "https://localhost:8080/"
        },
        "id": "xTRJcB0Rqzl7",
        "outputId": "7181c9c8-2992-4bdc-e1be-bbf6db8c11c5"
      },
      "execution_count": 32,
      "outputs": [
        {
          "output_type": "stream",
          "name": "stdout",
          "text": [
            "The factorial of 5 is 120\n"
          ]
        }
      ]
    },
    {
      "cell_type": "code",
      "source": [
        "# Exercise 14: Reverse a integer number\n",
        "\n",
        "num = 76542\n",
        "rev = str(num)[::-1]\n",
        "\n",
        "print(rev)"
      ],
      "metadata": {
        "colab": {
          "base_uri": "https://localhost:8080/"
        },
        "id": "TCRrancRrVoz",
        "outputId": "4cf3210e-f873-43ce-d28a-dcf093ea96a9"
      },
      "execution_count": 33,
      "outputs": [
        {
          "output_type": "stream",
          "name": "stdout",
          "text": [
            "24567\n"
          ]
        }
      ]
    },
    {
      "cell_type": "code",
      "source": [
        "# Exercise 15: Print elements from a given list present at odd index positions\n",
        "\n",
        "lst = [10, 20, 30, 40, 50, 60, 70, 80, 90, 100]\n",
        "\n",
        "for i in range(len(lst)):\n",
        "  if i % 2 != 0:\n",
        "    print(lst[i])"
      ],
      "metadata": {
        "colab": {
          "base_uri": "https://localhost:8080/"
        },
        "id": "wpMAIIzwr2xa",
        "outputId": "e792bd52-fe52-40dc-b41a-aa6e22e278b9"
      },
      "execution_count": 34,
      "outputs": [
        {
          "output_type": "stream",
          "name": "stdout",
          "text": [
            "20\n",
            "40\n",
            "60\n",
            "80\n",
            "100\n"
          ]
        }
      ]
    },
    {
      "cell_type": "code",
      "source": [
        "# Exercise 16: Calculate the cube of all numbers from 1 to a given number\n",
        "\n",
        "num = 6\n",
        "\n",
        "for i in range(1, num + 1):\n",
        "  print(f\"Current Number is : {i}  and the cube is {i ** 3}\")"
      ],
      "metadata": {
        "colab": {
          "base_uri": "https://localhost:8080/"
        },
        "id": "smQ3oz6UsOwj",
        "outputId": "61fb23bf-5d56-42f5-81e7-ea35b4f1d1e4"
      },
      "execution_count": 36,
      "outputs": [
        {
          "output_type": "stream",
          "name": "stdout",
          "text": [
            "Current Number is : 1  and the cube is 1\n",
            "Current Number is : 2  and the cube is 8\n",
            "Current Number is : 3  and the cube is 27\n",
            "Current Number is : 4  and the cube is 64\n",
            "Current Number is : 5  and the cube is 125\n",
            "Current Number is : 6  and the cube is 216\n"
          ]
        }
      ]
    },
    {
      "cell_type": "code",
      "source": [
        "# Exercise 17: Find the sum of a series of a number up to n terms\n",
        "\n",
        "del sum\n",
        "\n",
        "num = 2\n",
        "terms = 5\n",
        "\n",
        "ls = []\n",
        "for i in range(1, terms + 1):\n",
        "    ls.append(str(num) * i)\n",
        "\n",
        "print(ls)\n",
        "\n",
        "new_ls = list(map(int, ls))\n",
        "print(sum(new_ls))"
      ],
      "metadata": {
        "colab": {
          "base_uri": "https://localhost:8080/"
        },
        "id": "QZcUKv70sdMl",
        "outputId": "c71336e8-7dcf-4cd1-e15a-21b41085d12e"
      },
      "execution_count": 42,
      "outputs": [
        {
          "output_type": "stream",
          "name": "stdout",
          "text": [
            "['2', '22', '222', '2222', '22222']\n",
            "24690\n"
          ]
        }
      ]
    },
    {
      "cell_type": "code",
      "source": [
        "# Exercise 18: Print the following pattern\n",
        "\n",
        "rows = 5\n",
        "for i in range(0, rows):\n",
        "    for j in range(0, i + 1):\n",
        "        print(\"*\", end=' ')\n",
        "    print(\"\\r\")\n",
        "\n",
        "for i in range(rows, 0, -1):\n",
        "    for j in range(0, i - 1):\n",
        "        print(\"*\", end=' ')\n",
        "    print(\"\\r\")"
      ],
      "metadata": {
        "colab": {
          "base_uri": "https://localhost:8080/"
        },
        "id": "sdarD5jatOfi",
        "outputId": "c401c17a-19d9-428c-cd64-4e40524319b5"
      },
      "execution_count": 43,
      "outputs": [
        {
          "output_type": "stream",
          "name": "stdout",
          "text": [
            "* \r\n",
            "* * \r\n",
            "* * * \r\n",
            "* * * * \r\n",
            "* * * * * \r\n",
            "* * * * \r\n",
            "* * * \r\n",
            "* * \r\n",
            "* \r\n",
            "\r\n"
          ]
        }
      ]
    },
    {
      "cell_type": "code",
      "source": [
        "# Exercise 19: Print Full Multiplication Table\n",
        "\n",
        "for i in range(1, 11):\n",
        "  print('multiplication table of:', i)\n",
        "  for j in range(1, 11):\n",
        "    print(f\" {i * j}\", end=\"\")\n",
        "  print()"
      ],
      "metadata": {
        "colab": {
          "base_uri": "https://localhost:8080/"
        },
        "id": "UBhgwrUmuQcx",
        "outputId": "bb1815d7-646b-454b-e535-4ff42d73f03a"
      },
      "execution_count": 44,
      "outputs": [
        {
          "output_type": "stream",
          "name": "stdout",
          "text": [
            "multiplication table of: 1\n",
            " 1 2 3 4 5 6 7 8 9 10\n",
            "multiplication table of: 2\n",
            " 2 4 6 8 10 12 14 16 18 20\n",
            "multiplication table of: 3\n",
            " 3 6 9 12 15 18 21 24 27 30\n",
            "multiplication table of: 4\n",
            " 4 8 12 16 20 24 28 32 36 40\n",
            "multiplication table of: 5\n",
            " 5 10 15 20 25 30 35 40 45 50\n",
            "multiplication table of: 6\n",
            " 6 12 18 24 30 36 42 48 54 60\n",
            "multiplication table of: 7\n",
            " 7 14 21 28 35 42 49 56 63 70\n",
            "multiplication table of: 8\n",
            " 8 16 24 32 40 48 56 64 72 80\n",
            "multiplication table of: 9\n",
            " 9 18 27 36 45 54 63 72 81 90\n",
            "multiplication table of: 10\n",
            " 10 20 30 40 50 60 70 80 90 100\n"
          ]
        }
      ]
    },
    {
      "cell_type": "code",
      "source": [
        "# Exercise 20: Print the alternate numbers pattern\n",
        "\n",
        "def print_alternate_pattern(rows):\n",
        "    num = 1\n",
        "    for i in range(1, rows + 1):\n",
        "        if i % 2 != 0:\n",
        "            for x in range(num, num + i):\n",
        "              print(x, end=' ')\n",
        "            print()\n",
        "        else:\n",
        "            for y in range(num + i - 1, num - 1, -1):\n",
        "              print(y, end=' ')\n",
        "            print()\n",
        "        num += i\n",
        "\n",
        "print_alternate_pattern(5)"
      ],
      "metadata": {
        "colab": {
          "base_uri": "https://localhost:8080/"
        },
        "id": "lRR9WISUuYBI",
        "outputId": "28580ad5-d2f4-4ac2-bf67-ca40a1b09625"
      },
      "execution_count": 45,
      "outputs": [
        {
          "output_type": "stream",
          "name": "stdout",
          "text": [
            "1 \n",
            "3 2 \n",
            "4 5 6 \n",
            "10 9 8 7 \n",
            "11 12 13 14 15 \n"
          ]
        }
      ]
    },
    {
      "cell_type": "code",
      "source": [
        "# Exercise 21: Flatten a nested list using loops\n",
        "\n",
        "def flatten_list(nested_list):\n",
        "    flat_list = []\n",
        "    for element in nested_list:\n",
        "        if isinstance(element, list):\n",
        "            for item in element:\n",
        "                flat_list.append(item)\n",
        "        else:\n",
        "            flat_list.append(element)\n",
        "\n",
        "    return flat_list\n",
        "\n",
        "nested_list = [1, [2, 3], [4, 5, 6], 7, [8, 9]]\n",
        "flattened = flatten_list(nested_list)\n",
        "print(\"Flattened list:\", flattened)"
      ],
      "metadata": {
        "colab": {
          "base_uri": "https://localhost:8080/"
        },
        "id": "kbhO4WV5ugLa",
        "outputId": "99f874c7-41b3-4dd2-816b-533ba9a761b5"
      },
      "execution_count": 46,
      "outputs": [
        {
          "output_type": "stream",
          "name": "stdout",
          "text": [
            "Flattened list: [1, 2, 3, 4, 5, 6, 7, 8, 9]\n"
          ]
        }
      ]
    },
    {
      "cell_type": "code",
      "source": [
        "# Exercise 22: Find largest and smallest digit in a number\n",
        "\n",
        "def find_largest_smallest_digit(number):\n",
        "\n",
        "  if number == 0:\n",
        "    print(\"The number is zero. Largest and smallest digit is 0.\")\n",
        "    return 0, 0\n",
        "\n",
        "  s_number = str(abs(number))\n",
        "  largest_digit = int(s_number[0])\n",
        "  smallest_digit = int(s_number[0])\n",
        "\n",
        "  for digit in s_number[1:]:\n",
        "    digit_int = int(digit)\n",
        "    if digit_int > largest_digit:\n",
        "      largest_digit = digit_int\n",
        "    if digit_int < smallest_digit:\n",
        "      smallest_digit = digit_int\n",
        "\n",
        "  return largest_digit, smallest_digit\n",
        "\n",
        "num1 = 9876543210\n",
        "largest1, smallest1 = find_largest_smallest_digit(num1)\n",
        "if largest1 is not None:\n",
        "  print(f\"Largest digit in {num1}: {largest1}\")\n",
        "  print(f\"Smallest digit in {num1}: {smallest1}\")\n",
        "\n",
        "num2 = -5082\n",
        "largest2, smallest2 = find_largest_smallest_digit(num2)\n",
        "if largest2 is not None:\n",
        "  print(f\"Largest digit in {num2}: {largest2}\")\n",
        "  print(f\"Smallest digit in {num2}: {smallest2}\")"
      ],
      "metadata": {
        "colab": {
          "base_uri": "https://localhost:8080/"
        },
        "id": "RSRK9Vreu1pJ",
        "outputId": "2b0be6b5-17bd-4a45-dd0b-b319f1a2f35c"
      },
      "execution_count": 55,
      "outputs": [
        {
          "output_type": "stream",
          "name": "stdout",
          "text": [
            "Largest digit in 9876543210: 9\n",
            "Smallest digit in 9876543210: 0\n",
            "Largest digit in -5082: 8\n",
            "Smallest digit in -5082: 0\n"
          ]
        }
      ]
    },
    {
      "cell_type": "code",
      "source": [],
      "metadata": {
        "id": "Pi0PTr18vkGu"
      },
      "execution_count": null,
      "outputs": []
    }
  ]
}