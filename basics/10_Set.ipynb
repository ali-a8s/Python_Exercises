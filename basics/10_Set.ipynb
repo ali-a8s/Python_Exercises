{
  "nbformat": 4,
  "nbformat_minor": 0,
  "metadata": {
    "colab": {
      "provenance": []
    },
    "kernelspec": {
      "name": "python3",
      "display_name": "Python 3"
    },
    "language_info": {
      "name": "python"
    }
  },
  "cells": [
    {
      "cell_type": "code",
      "execution_count": 3,
      "metadata": {
        "colab": {
          "base_uri": "https://localhost:8080/"
        },
        "id": "YdP1g6Rv8OJA",
        "outputId": "da624a5c-00ca-4763-bc20-7b98eb0e4397"
      },
      "outputs": [
        {
          "output_type": "stream",
          "name": "stdout",
          "text": [
            "{'mango', 'banana', 'apple', 'orange'}\n",
            "add element: {'apple', 'orange', 'banana', 'mango', 'grape'}\n",
            "remove element: {'apple', 'orange', 'mango', 'grape'}\n",
            "discard element: {'apple', 'orange', 'grape'}\n"
          ]
        }
      ],
      "source": [
        "# Exercise 1: Perform Basic Set Operations\n",
        "# Create a Set: Create a set named fruits containing “apple”, “banana”, “mango”, and “orange”.\n",
        "# Add Element: Add “grape” to the fruits set.\n",
        "# Remove Element: Remove “banana” from the fruits set.\n",
        "# Discard Element: Try to discard “mango” from the fruits set.\n",
        "\n",
        "s = {'apple', 'banana', 'orange', 'mango', 'orange'}\n",
        "print(s)\n",
        "s.add('grape')\n",
        "print(f\"add element: {s}\")\n",
        "s.remove('banana')\n",
        "print(f\"remove element: {s}\")\n",
        "s.discard('mango')\n",
        "print(f\"discard element: {s}\")"
      ]
    },
    {
      "cell_type": "code",
      "source": [
        "# Exercise 2: Union of Sets\n",
        "set1 = {10, 20, 30, 40, 50}\n",
        "set2 = {30, 40, 50, 60, 70}\n",
        "\n",
        "print(f\"union: {set1.union(set2)}\")"
      ],
      "metadata": {
        "colab": {
          "base_uri": "https://localhost:8080/"
        },
        "id": "qJ8kv9uw84j9",
        "outputId": "c6711cb6-ab9e-460f-f8e9-c0657d8e48ee"
      },
      "execution_count": 4,
      "outputs": [
        {
          "output_type": "stream",
          "name": "stdout",
          "text": [
            "union: {70, 40, 10, 50, 20, 60, 30}\n"
          ]
        }
      ]
    },
    {
      "cell_type": "code",
      "source": [
        "# Exercise 3: Intersection of Sets\n",
        "\n",
        "set1 = {10, 20, 30, 40, 50}\n",
        "set2 = {30, 40, 50, 60, 70}\n",
        "\n",
        "print(f\"Intersection : {set1.intersection(set2)}\")"
      ],
      "metadata": {
        "colab": {
          "base_uri": "https://localhost:8080/"
        },
        "id": "hvnliN_Z9nD7",
        "outputId": "1c423808-c6f6-4752-cdee-d0a6fef4dac7"
      },
      "execution_count": 6,
      "outputs": [
        {
          "output_type": "stream",
          "name": "stdout",
          "text": [
            "Intersection : {40, 50, 30}\n"
          ]
        }
      ]
    },
    {
      "cell_type": "code",
      "source": [
        "# Exercise 4: Difference of Sets\n",
        "\n",
        "set1 = {10, 20, 30, 40, 50}\n",
        "set2 = {30, 40, 50, 60, 70}\n",
        "\n",
        "print(f'Difference: {set1.difference(set2)}')"
      ],
      "metadata": {
        "colab": {
          "base_uri": "https://localhost:8080/"
        },
        "id": "0FoFqt7d9v6X",
        "outputId": "c4a365ff-4c22-4e67-b9b1-b0a062406489"
      },
      "execution_count": 7,
      "outputs": [
        {
          "output_type": "stream",
          "name": "stdout",
          "text": [
            "Difference: {10, 20}\n"
          ]
        }
      ]
    },
    {
      "cell_type": "code",
      "source": [
        "# Exercise 5: Symmetric Difference\n",
        "\n",
        "set1 = {10, 20, 30, 40, 50}\n",
        "set2 = {30, 40, 50, 60, 70}\n",
        "\n",
        "print(f\"Symmetric Difference: {set1.symmetric_difference(set2)}\")"
      ],
      "metadata": {
        "colab": {
          "base_uri": "https://localhost:8080/"
        },
        "id": "zAWs0DtD99KR",
        "outputId": "ec57f1d1-f830-460a-c003-f301c3528fe9"
      },
      "execution_count": 8,
      "outputs": [
        {
          "output_type": "stream",
          "name": "stdout",
          "text": [
            "Symmetric Difference: {20, 70, 10, 60}\n"
          ]
        }
      ]
    },
    {
      "cell_type": "code",
      "source": [
        "# Exercise 6: Add a list of Elements to a Set\n",
        "\n",
        "sample_set = {\"Yellow\", \"Orange\", \"Black\"}\n",
        "sample_list = [\"Blue\", \"Green\", \"Red\"]\n",
        "\n",
        "sample_set.update(sample_list)\n",
        "print(sample_set)"
      ],
      "metadata": {
        "colab": {
          "base_uri": "https://localhost:8080/"
        },
        "id": "VhOLRWBy-I2w",
        "outputId": "7beba95e-4279-4e48-b7f5-f83395f2254b"
      },
      "execution_count": 9,
      "outputs": [
        {
          "output_type": "stream",
          "name": "stdout",
          "text": [
            "{'Blue', 'Green', 'Yellow', 'Red', 'Orange', 'Black'}\n"
          ]
        }
      ]
    },
    {
      "cell_type": "code",
      "source": [
        "# Exercise 7: Set Difference Update\n",
        "\n",
        "set1 = {10, 20, 30}\n",
        "set2 = {20, 40, 50}\n",
        "\n",
        "set1.difference_update(set2)\n",
        "print(set1)"
      ],
      "metadata": {
        "colab": {
          "base_uri": "https://localhost:8080/"
        },
        "id": "lRlb89vl-XRD",
        "outputId": "410e22d5-6546-489d-937d-fb5f949690da"
      },
      "execution_count": 10,
      "outputs": [
        {
          "output_type": "stream",
          "name": "stdout",
          "text": [
            "{10, 30}\n"
          ]
        }
      ]
    },
    {
      "cell_type": "code",
      "source": [
        "# Exercise 8: Remove Items From Set Simultaneously\n",
        "\n",
        "set1 = {10, 20, 30, 40, 50}\n",
        "set1.difference_update({10, 20, 30})\n",
        "print(set1)"
      ],
      "metadata": {
        "colab": {
          "base_uri": "https://localhost:8080/"
        },
        "id": "rM7cc2kP-c6E",
        "outputId": "44aab210-d912-4d5d-d43d-b114665b605d"
      },
      "execution_count": 11,
      "outputs": [
        {
          "output_type": "stream",
          "name": "stdout",
          "text": [
            "{50, 40}\n"
          ]
        }
      ]
    },
    {
      "cell_type": "code",
      "source": [
        "# Exercise 9: Check Subset\n",
        "\n",
        "subset_set = {10, 20}\n",
        "main_set = {10, 20, 30, 40}\n",
        "\n",
        "is_subset = subset_set.issubset(main_set)\n",
        "print(f\"Is {subset_set} a subset of {main_set}? {is_subset}\")"
      ],
      "metadata": {
        "colab": {
          "base_uri": "https://localhost:8080/"
        },
        "id": "TZ_ZcYCq-juN",
        "outputId": "c33b65d1-eeaf-4102-98d5-cadeed8d8db4"
      },
      "execution_count": 12,
      "outputs": [
        {
          "output_type": "stream",
          "name": "stdout",
          "text": [
            "Is {10, 20} a subset of {40, 10, 20, 30}? True\n"
          ]
        }
      ]
    },
    {
      "cell_type": "code",
      "source": [
        "# Exercise 10: Check Superset\n",
        "\n",
        "subset_set = {10, 20}\n",
        "main_set = {10, 20, 30, 40}\n",
        "\n",
        "is_subset = subset_set.issuperset(main_set)\n",
        "print(f\"Is {subset_set} a superset of {main_set}? {is_subset}\")"
      ],
      "metadata": {
        "colab": {
          "base_uri": "https://localhost:8080/"
        },
        "id": "Mp9INY0G-p9S",
        "outputId": "f4ee9ce1-fa67-4bf9-d976-c573ff0b0f42"
      },
      "execution_count": 13,
      "outputs": [
        {
          "output_type": "stream",
          "name": "stdout",
          "text": [
            "Is {10, 20} a superset of {40, 10, 20, 30}? False\n"
          ]
        }
      ]
    },
    {
      "cell_type": "code",
      "source": [
        "# Exercise 11: Set Intersection Check\n",
        "\n",
        "set1 = {10, 20, 30, 40, 50}\n",
        "set2 = {60, 70, 80, 90, 10}\n",
        "\n",
        "if set1.isdisjoint(set2):\n",
        "  print(\"Two sets have no items in common\")\n",
        "else:\n",
        "  print(\"Two sets have items in common\")\n",
        "  print(set1.intersection(set2))"
      ],
      "metadata": {
        "colab": {
          "base_uri": "https://localhost:8080/"
        },
        "id": "SpVYJbnD-7kO",
        "outputId": "4baaa69a-eabb-42b1-e136-ca7c49b20cc5"
      },
      "execution_count": 14,
      "outputs": [
        {
          "output_type": "stream",
          "name": "stdout",
          "text": [
            "Two sets have items in common\n",
            "{10}\n"
          ]
        }
      ]
    },
    {
      "cell_type": "code",
      "source": [
        "# Exercise 12: Set Symmetric Difference Update\n",
        "\n",
        "set1 = {10, 20, 30, 40, 50}\n",
        "set2 = {30, 40, 50, 60, 70}\n",
        "\n",
        "set1.symmetric_difference_update(set2)\n",
        "print(set1)"
      ],
      "metadata": {
        "colab": {
          "base_uri": "https://localhost:8080/"
        },
        "id": "mQS6GU2W_Sxa",
        "outputId": "f8504d6e-e1d3-4755-e8f3-1e00d27040d4"
      },
      "execution_count": 15,
      "outputs": [
        {
          "output_type": "stream",
          "name": "stdout",
          "text": [
            "{20, 70, 10, 60}\n"
          ]
        }
      ]
    },
    {
      "cell_type": "code",
      "source": [
        "# Exercise 13: Set Intersection Update\n",
        "\n",
        "set1 = {10, 20, 30, 40, 50}\n",
        "set2 = {30, 40, 50, 60, 70}\n",
        "\n",
        "set1.intersection_update(set2)\n",
        "print(set1)"
      ],
      "metadata": {
        "colab": {
          "base_uri": "https://localhost:8080/"
        },
        "id": "uEkexjTw_YBZ",
        "outputId": "96165d43-2a8d-43cd-9ca4-7abcf747a497"
      },
      "execution_count": 16,
      "outputs": [
        {
          "output_type": "stream",
          "name": "stdout",
          "text": [
            "{40, 50, 30}\n"
          ]
        }
      ]
    },
    {
      "cell_type": "code",
      "source": [
        "# Exercise 14: Find Common Elements in Two Lists\n",
        "\n",
        "list1 = [10, 20, 30, 40]\n",
        "list2 = [30, 40, 50, 60]\n",
        "\n",
        "set1 = set(list1)\n",
        "set2 = set(list2)\n",
        "\n",
        "res = set1.intersection(set2)\n",
        "print(f\"List 1: {list1}\")\n",
        "print(f\"List 2: {list2}\")\n",
        "print(f\"Common elements using sets: {res}\")"
      ],
      "metadata": {
        "colab": {
          "base_uri": "https://localhost:8080/"
        },
        "id": "1irtHW6R_eh2",
        "outputId": "5cbdb89f-34c9-4efa-a94a-165ef682eadd"
      },
      "execution_count": 17,
      "outputs": [
        {
          "output_type": "stream",
          "name": "stdout",
          "text": [
            "List 1: [10, 20, 30, 40]\n",
            "List 2: [30, 40, 50, 60]\n",
            "Common elements using sets: {40, 30}\n"
          ]
        }
      ]
    },
    {
      "cell_type": "code",
      "source": [
        "# Exercise 15: Frozen Set\n",
        "\n",
        "my_list = [10, 20, 30]\n",
        "frozen_set = frozenset(my_list)\n",
        "print(f\"Original list: {my_list}\")\n",
        "print(f\"Created frozen set: {frozen_set}\")"
      ],
      "metadata": {
        "colab": {
          "base_uri": "https://localhost:8080/"
        },
        "id": "z-xawFuj_-0R",
        "outputId": "cd805f91-d58d-4343-dce9-2af0b60469a9"
      },
      "execution_count": 18,
      "outputs": [
        {
          "output_type": "stream",
          "name": "stdout",
          "text": [
            "Original list: [10, 20, 30]\n",
            "Created frozen set: frozenset({10, 20, 30})\n"
          ]
        }
      ]
    },
    {
      "cell_type": "code",
      "source": [
        "# Exercise 16: Count Unique Words\n",
        "\n",
        "sentence = \"dog is a simple animal dogs is selfless animal\"\n",
        "\n",
        "snt_lst = sentence.split()\n",
        "snt_set = set(snt_lst)\n",
        "print(len(snt_set))"
      ],
      "metadata": {
        "colab": {
          "base_uri": "https://localhost:8080/"
        },
        "id": "ptciGqWNAD8T",
        "outputId": "dc9a03f2-1807-467d-d772-acf0714750be"
      },
      "execution_count": 19,
      "outputs": [
        {
          "output_type": "stream",
          "name": "stdout",
          "text": [
            "7\n"
          ]
        }
      ]
    }
  ]
}