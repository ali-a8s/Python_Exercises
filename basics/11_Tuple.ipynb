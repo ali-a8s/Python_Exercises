{
  "nbformat": 4,
  "nbformat_minor": 0,
  "metadata": {
    "colab": {
      "provenance": []
    },
    "kernelspec": {
      "name": "python3",
      "display_name": "Python 3"
    },
    "language_info": {
      "name": "python"
    }
  },
  "cells": [
    {
      "cell_type": "code",
      "execution_count": 2,
      "metadata": {
        "colab": {
          "base_uri": "https://localhost:8080/"
        },
        "id": "FjyRFEdOAest",
        "outputId": "2d05b07f-0043-44b2-efb8-7161c0097d2c"
      },
      "outputs": [
        {
          "output_type": "stream",
          "name": "stdout",
          "text": [
            "my tulpa: (1, 2, 3, 4, 5)\n",
            "third element: 3\n",
            "length: 5\n"
          ]
        }
      ],
      "source": [
        "# Exercise 1: Perform Basic Tuple Operations\n",
        "# Create a Tuple: Create a tuple named my_tuple containing the numbers 1, 2, 3, 4, and 5.\n",
        "# Access Elements: Access and print the third element of my_tuple.\n",
        "# Tuple Length: Find and print the length of my_tuple\n",
        "\n",
        "my_tuple = (1, 2, 3, 4, 5)\n",
        "print(f\"my tulpa: {my_tuple}\")\n",
        "print(f\"third element: {my_tuple[2]}\")\n",
        "print(f\"length: {len(my_tuple)}\")"
      ]
    },
    {
      "cell_type": "code",
      "source": [
        "# Exercise 2: Tuple Repetition\n",
        "\n",
        "original_tuple = ('a', 'b')\n",
        "result = original_tuple * 3\n",
        "print(result)"
      ],
      "metadata": {
        "colab": {
          "base_uri": "https://localhost:8080/"
        },
        "id": "D0R6WQlaBNUy",
        "outputId": "abc2435c-f269-447f-a30d-6e82533577d0"
      },
      "execution_count": 3,
      "outputs": [
        {
          "output_type": "stream",
          "name": "stdout",
          "text": [
            "('a', 'b', 'a', 'b', 'a', 'b')\n"
          ]
        }
      ]
    },
    {
      "cell_type": "code",
      "source": [
        "# Exercise 3: Slicing Tuples\n",
        "\n",
        "numbers = (1, 2, 3, 4, 5, 6, 7, 8, 9, 10)\n",
        "res = numbers[3:7]\n",
        "print(res)"
      ],
      "metadata": {
        "colab": {
          "base_uri": "https://localhost:8080/"
        },
        "id": "2ozS8IPsBcgz",
        "outputId": "91708dc2-469e-426f-beb5-94f7ce469fed"
      },
      "execution_count": 5,
      "outputs": [
        {
          "output_type": "stream",
          "name": "stdout",
          "text": [
            "(4, 5, 6, 7)\n"
          ]
        }
      ]
    },
    {
      "cell_type": "code",
      "source": [
        "# Exercise 4: Reverse the tuple\n",
        "\n",
        "tuple1 = (10, 20, 30, 40, 50)\n",
        "\n",
        "print(tuple1[::-1])"
      ],
      "metadata": {
        "colab": {
          "base_uri": "https://localhost:8080/"
        },
        "id": "gE-2up0xBtu2",
        "outputId": "3db3d01e-4c3b-4598-819d-95c8bd298806"
      },
      "execution_count": 6,
      "outputs": [
        {
          "output_type": "stream",
          "name": "stdout",
          "text": [
            "(50, 40, 30, 20, 10)\n"
          ]
        }
      ]
    },
    {
      "cell_type": "code",
      "source": [
        "# Exercise 5: Access Nested Tuples\n",
        "\n",
        "tuple1 = (\"Orange\", [10, 20, 30], (5, 15, 25))\n",
        "\n",
        "print(tuple1[1][1])"
      ],
      "metadata": {
        "colab": {
          "base_uri": "https://localhost:8080/"
        },
        "id": "0xqIpy8NB1Sx",
        "outputId": "658353ce-b38e-40c9-c8bc-5202f4fa5291"
      },
      "execution_count": 7,
      "outputs": [
        {
          "output_type": "stream",
          "name": "stdout",
          "text": [
            "20\n"
          ]
        }
      ]
    },
    {
      "cell_type": "code",
      "source": [
        "# Exercise 6: Create a tuple with single item 50\n",
        "\n",
        "tuple1= (50, )\n",
        "print(tuple1)"
      ],
      "metadata": {
        "colab": {
          "base_uri": "https://localhost:8080/"
        },
        "id": "ZOzvbTL6B-td",
        "outputId": "a228f4dd-8537-4736-c4d7-dd90bbe25f9d"
      },
      "execution_count": 8,
      "outputs": [
        {
          "output_type": "stream",
          "name": "stdout",
          "text": [
            "(50,)\n"
          ]
        }
      ]
    },
    {
      "cell_type": "code",
      "source": [
        "# Exercise 7: Unpack the tuple into 4 variables\n",
        "\n",
        "tuple1 = (10, 20, 30, 40)\n",
        "\n",
        "a, b, c,  d = tuple1\n",
        "print(a)\n",
        "print(b)\n",
        "print(c)\n",
        "print(d)"
      ],
      "metadata": {
        "colab": {
          "base_uri": "https://localhost:8080/"
        },
        "id": "_xef-a3KCCmM",
        "outputId": "4c83b3aa-5920-4720-c5a4-14ed3898d8cd"
      },
      "execution_count": 9,
      "outputs": [
        {
          "output_type": "stream",
          "name": "stdout",
          "text": [
            "10\n",
            "20\n",
            "30\n",
            "40\n"
          ]
        }
      ]
    },
    {
      "cell_type": "code",
      "source": [
        "# Exercise 8: Swap two tuples in Python\n",
        "\n",
        "tuple1 = (11, 22)\n",
        "tuple2 = (99, 88)\n",
        "\n",
        "tuple1, tuple2 = tuple2, tuple1\n",
        "print(tuple2)\n",
        "print(tuple1)"
      ],
      "metadata": {
        "colab": {
          "base_uri": "https://localhost:8080/"
        },
        "id": "qbF-x5ZZCbve",
        "outputId": "4f4927a4-d61d-478b-e1e1-dc8921f0c23f"
      },
      "execution_count": 11,
      "outputs": [
        {
          "output_type": "stream",
          "name": "stdout",
          "text": [
            "(11, 22)\n",
            "(99, 88)\n"
          ]
        }
      ]
    },
    {
      "cell_type": "code",
      "source": [
        "# Exercise 9: Copy Specific Elements From Tuple\n",
        "\n",
        "tuple1 = (11, 22, 33, 44, 55, 66)\n",
        "tuple2 = tuple1[3:-1]\n",
        "print(tuple2)"
      ],
      "metadata": {
        "colab": {
          "base_uri": "https://localhost:8080/"
        },
        "id": "aBfGy_BUC0zy",
        "outputId": "3f435bba-5ea1-4f92-fe74-becea070ed7c"
      },
      "execution_count": 12,
      "outputs": [
        {
          "output_type": "stream",
          "name": "stdout",
          "text": [
            "(44, 55)\n"
          ]
        }
      ]
    },
    {
      "cell_type": "code",
      "source": [
        "# Exercise 10: List to Tuple\n",
        "\n",
        "my_list = [10, 20, 30]\n",
        "\n",
        "converted_tuple = tuple(my_list)\n",
        "print(f\"Converted list to tuple: {converted_tuple}\")"
      ],
      "metadata": {
        "colab": {
          "base_uri": "https://localhost:8080/"
        },
        "id": "X9esuMbzC4Ly",
        "outputId": "d25f4676-ff81-4283-e9e7-77b30a9c4105"
      },
      "execution_count": 13,
      "outputs": [
        {
          "output_type": "stream",
          "name": "stdout",
          "text": [
            "Converted list to tuple: (10, 20, 30)\n"
          ]
        }
      ]
    },
    {
      "cell_type": "code",
      "source": [
        "# Exercise 11: Function Returning Tuple\n",
        "\n",
        "def get_min_max(numbers):\n",
        "    if not numbers:\n",
        "        return (None, None)\n",
        "    min_val = min(numbers)\n",
        "    max_val = max(numbers)\n",
        "    return (min_val, max_val)\n",
        "\n",
        "my_numbers = [10, 5, 20, 2, 15]\n",
        "min_max_values = get_min_max(my_numbers)\n",
        "print(f\"Original numbers: {my_numbers}\")\n",
        "print(f\"Minimum and maximum values: {min_max_values}\")"
      ],
      "metadata": {
        "colab": {
          "base_uri": "https://localhost:8080/"
        },
        "id": "nknZcCrTC8b6",
        "outputId": "f5261b3e-52b3-4d1f-e5e1-85b9b69de13f"
      },
      "execution_count": 14,
      "outputs": [
        {
          "output_type": "stream",
          "name": "stdout",
          "text": [
            "Original numbers: [10, 5, 20, 2, 15]\n",
            "Minimum and maximum values: (2, 20)\n"
          ]
        }
      ]
    },
    {
      "cell_type": "code",
      "source": [
        "# Exercise 12: Comparing Tuples\n",
        "\n",
        "t1 = (1, 2, 3)\n",
        "t2 = (1, 2, 4)\n",
        "\n",
        "print(f\"Tuple 1: {t1}\")\n",
        "print(f\"Tuple 2: {t2}\")\n",
        "\n",
        "if t1 > t2:\n",
        "    print(f\"{t1} is greater than {t2}\")\n",
        "elif t1 < t2:\n",
        "    print(f\"{t1} is less than {t2}\")\n",
        "else:\n",
        "    print(f\"{t1} is equal to {t2}\")"
      ],
      "metadata": {
        "colab": {
          "base_uri": "https://localhost:8080/"
        },
        "id": "NoBaOLuWDE9k",
        "outputId": "32a4ee8f-ba24-4b9d-cd83-379389565d76"
      },
      "execution_count": 15,
      "outputs": [
        {
          "output_type": "stream",
          "name": "stdout",
          "text": [
            "Tuple 1: (1, 2, 3)\n",
            "Tuple 2: (1, 2, 4)\n",
            "(1, 2, 3) is less than (1, 2, 4)\n"
          ]
        }
      ]
    },
    {
      "cell_type": "code",
      "source": [
        "# Exercise 13: Removing Duplicates from Tuple\n",
        "\n",
        "my_tuple = (1, 2, 2, 3, 4, 4, 5)\n",
        "\n",
        "my_set = set(my_tuple)\n",
        "\n",
        "unique_tuple = tuple(my_set)\n",
        "print(my_tuple)\n",
        "print(unique_tuple)"
      ],
      "metadata": {
        "colab": {
          "base_uri": "https://localhost:8080/"
        },
        "id": "OZ_RqAcgDJbH",
        "outputId": "6e71149c-6a64-451c-91e8-d06582b97139"
      },
      "execution_count": 17,
      "outputs": [
        {
          "output_type": "stream",
          "name": "stdout",
          "text": [
            "(1, 2, 2, 3, 4, 4, 5)\n",
            "(1, 2, 3, 4, 5)\n"
          ]
        }
      ]
    },
    {
      "cell_type": "code",
      "source": [
        "# Exercise 14: Filter Tuples\n",
        "\n",
        "students = [('Alice', 85), ('Bob', 92), ('Charlie', 78), ('David', 95)]\n",
        "print(f\"Original student list: {students}\")\n",
        "\n",
        "high_achievers_loop = []\n",
        "for student in students:\n",
        "  if student[1] >= 90:\n",
        "    high_achievers_loop.append(student)\n",
        "print(f\"Students with scores 90 or above (loop method): {high_achievers_loop}\")"
      ],
      "metadata": {
        "colab": {
          "base_uri": "https://localhost:8080/"
        },
        "id": "lfWc4vZHDgSE",
        "outputId": "e89b00f8-b0d5-42f0-ba04-2188e6326b67"
      },
      "execution_count": 18,
      "outputs": [
        {
          "output_type": "stream",
          "name": "stdout",
          "text": [
            "Original student list: [('Alice', 85), ('Bob', 92), ('Charlie', 78), ('David', 95)]\n",
            "Students with scores 90 or above (loop method): [('Bob', 92), ('David', 95)]\n"
          ]
        }
      ]
    },
    {
      "cell_type": "code",
      "source": [
        "# Exercise 15: Map Tuples\n",
        "\n",
        "t = (1, 2, 3, 4)\n",
        "mapping = tuple(map(lambda x: x ** 2, t))\n",
        "\n",
        "print(f\"original: {t}\")\n",
        "print(f\"mapping: {mapping}\")"
      ],
      "metadata": {
        "colab": {
          "base_uri": "https://localhost:8080/"
        },
        "id": "Rkths_mbDpjw",
        "outputId": "e3d21f51-5843-4b41-cd7a-50e37474b3d5"
      },
      "execution_count": 19,
      "outputs": [
        {
          "output_type": "stream",
          "name": "stdout",
          "text": [
            "original: (1, 2, 3, 4)\n",
            "mapping: (1, 4, 9, 16)\n"
          ]
        }
      ]
    },
    {
      "cell_type": "code",
      "source": [
        "# Exercise 16: Modify Tuple\n",
        "\n",
        "tuple1 = (11, [22, 33], 44, 55)\n",
        "tuple1[1][0] = 222\n",
        "print(tuple1)"
      ],
      "metadata": {
        "colab": {
          "base_uri": "https://localhost:8080/"
        },
        "id": "dLZFuAD_EA3M",
        "outputId": "a578f8f7-037d-45fb-eb8d-3db3ce73ec80"
      },
      "execution_count": 20,
      "outputs": [
        {
          "output_type": "stream",
          "name": "stdout",
          "text": [
            "(11, [222, 33], 44, 55)\n"
          ]
        }
      ]
    },
    {
      "cell_type": "code",
      "source": [
        "# Exercise 17: Sort a tuple of tuples by 2nd item\n",
        "\n",
        "tuple1 = (('a', 23), ('b', 37), ('c', 11), ('d', 29))\n",
        "print(f\"Original tuple: {tuple1}\")\n",
        "\n",
        "list1 = list(tuple1)\n",
        "\n",
        "sorted_list = sorted(list1, key=lambda item: item[1])\n",
        "\n",
        "sorted_tuple = tuple(sorted_list)\n",
        "\n",
        "print(f\"Sorted tuple by 2nd item: {sorted_tuple}\")"
      ],
      "metadata": {
        "colab": {
          "base_uri": "https://localhost:8080/"
        },
        "id": "SaKnuET9EUvn",
        "outputId": "756c595e-f994-418c-df5e-36e9a6e90126"
      },
      "execution_count": 21,
      "outputs": [
        {
          "output_type": "stream",
          "name": "stdout",
          "text": [
            "Original tuple: (('a', 23), ('b', 37), ('c', 11), ('d', 29))\n",
            "Sorted tuple by 2nd item: (('c', 11), ('a', 23), ('d', 29), ('b', 37))\n"
          ]
        }
      ]
    },
    {
      "cell_type": "code",
      "source": [
        "# Exercise 18: Count Elements\n",
        "\n",
        "tuple1 = (50, 10, 60, 70, 50)\n",
        "\n",
        "count = 0\n",
        "for i in tuple1:\n",
        "  if i == 50:\n",
        "    count += 1\n",
        "print(count)"
      ],
      "metadata": {
        "colab": {
          "base_uri": "https://localhost:8080/"
        },
        "id": "BF9frW6_ElYF",
        "outputId": "6e68a304-7236-453a-ca0b-65b47e0af48c"
      },
      "execution_count": 23,
      "outputs": [
        {
          "output_type": "stream",
          "name": "stdout",
          "text": [
            "2\n"
          ]
        }
      ]
    },
    {
      "cell_type": "code",
      "source": [
        "# Exercise 19: Check if all items in the tuple are the same\n",
        "\n",
        "def check(t):\n",
        "    return all(i == t[0] for i in t)\n",
        "\n",
        "tuple1 = (45, 45, 45, 45)\n",
        "print(check(tuple1))"
      ],
      "metadata": {
        "colab": {
          "base_uri": "https://localhost:8080/"
        },
        "id": "MspwnNEKEw8b",
        "outputId": "a51970c7-333a-4518-edef-0be81a339890"
      },
      "execution_count": 24,
      "outputs": [
        {
          "output_type": "stream",
          "name": "stdout",
          "text": [
            "True\n"
          ]
        }
      ]
    }
  ]
}