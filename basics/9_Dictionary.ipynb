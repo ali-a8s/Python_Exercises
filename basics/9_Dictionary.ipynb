{
  "nbformat": 4,
  "nbformat_minor": 0,
  "metadata": {
    "colab": {
      "provenance": []
    },
    "kernelspec": {
      "name": "python3",
      "display_name": "Python 3"
    },
    "language_info": {
      "name": "python"
    }
  },
  "cells": [
    {
      "cell_type": "code",
      "execution_count": 2,
      "metadata": {
        "colab": {
          "base_uri": "https://localhost:8080/"
        },
        "id": "Vk5--tXFRpq4",
        "outputId": "2ce96589-883e-47fe-9e9e-5c421f42ca04"
      },
      "outputs": [
        {
          "output_type": "stream",
          "name": "stdout",
          "text": [
            "city: New York\n",
            "{'name': 'Alice', 'age': 40, 'city': 'New York', 'profession': 'Doctor'}\n"
          ]
        }
      ],
      "source": [
        "# Exercise 1: Perform basic dictionary operations\n",
        "# Add New Key-Value Pair: Add a new key-value pair, 'profession': 'Doctor', to the dictionary and print the updated dictionary.\n",
        "# Modify Value: Change the value of the age key to 40 in the dictionary and print the updated dictionary.\n",
        "# Access Key: Print the value associated with the city key.\n",
        "\n",
        "\n",
        "my_dict = {'name': 'Alice', 'age': 35, 'city': 'New York'}\n",
        "\n",
        "my_dict['profession'] = 'Doctor'\n",
        "my_dict['age'] = 40\n",
        "print(f'city: {my_dict['city']}')\n",
        "print(my_dict)"
      ]
    },
    {
      "cell_type": "code",
      "source": [
        "# Exercise 2: Perform dictionary operations\n",
        "# Remove Key-Value Pair : Remove the profession key-value pair from the dictionary.\n",
        "# Get Items (Key-Value Pairs): Print all key-value pairs (items) in the dictionary.\n",
        "# Check if Key Exists in the dictionary\n",
        "\n",
        "\n",
        "my_dict = {'name': 'Alice', 'age': 35, 'city': 'New York', 'profession': 'Doctor'}\n",
        "\n",
        "print(f\"Original dictionary: {my_dict}\")\n",
        "\n",
        "del my_dict['profession']\n",
        "print(f\"Updated dictionary after removing 'profession': {my_dict}\")\n",
        "\n",
        "print(\"Printing all key-value pairs:\")\n",
        "for key, value in my_dict.items():\n",
        "  print(f\"{key}: {value}\")\n",
        "\n",
        "def check_key_exists(dictionary, key_to_check):\n",
        "  return key_to_check in dictionary\n",
        "\n",
        "key1 = 'age'\n",
        "print(f\"Does '{key1}' exist? {check_key_exists(my_dict, key1)}\")"
      ],
      "metadata": {
        "colab": {
          "base_uri": "https://localhost:8080/"
        },
        "id": "dPsoBp_tSR0J",
        "outputId": "bc611d09-ef5a-4717-af77-f57b80b99001"
      },
      "execution_count": 7,
      "outputs": [
        {
          "output_type": "stream",
          "name": "stdout",
          "text": [
            "Original dictionary: {'name': 'Alice', 'age': 35, 'city': 'New York', 'profession': 'Doctor'}\n",
            "Updated dictionary after removing 'profession': {'name': 'Alice', 'age': 35, 'city': 'New York'}\n",
            "Printing all key-value pairs:\n",
            "name: Alice\n",
            "age: 35\n",
            "city: New York\n",
            "Does 'age' exist? True\n"
          ]
        }
      ]
    },
    {
      "cell_type": "code",
      "source": [
        "# Exercise 3: Dictionary from Lists\n",
        "\n",
        "keys = ['Ten', 'Twenty', 'Thirty']\n",
        "values = [10, 20, 30]\n",
        "\n",
        "res_dict = dict(zip(keys, values))\n",
        "print(res_dict)"
      ],
      "metadata": {
        "colab": {
          "base_uri": "https://localhost:8080/"
        },
        "id": "KFpI3L1vSwns",
        "outputId": "3455742b-c09e-4423-bcf4-74df11b8b945"
      },
      "execution_count": 8,
      "outputs": [
        {
          "output_type": "stream",
          "name": "stdout",
          "text": [
            "{'Ten': 10, 'Twenty': 20, 'Thirty': 30}\n"
          ]
        }
      ]
    },
    {
      "cell_type": "code",
      "source": [
        "# Exercise 4: Clear Dictionary\n",
        "\n",
        "my_dict = {'name': 'Alice', 'age': 35, 'city': 'New York'}\n",
        "print(f\"dictionary: {my_dict}\")\n",
        "\n",
        "my_dict.clear()\n",
        "print(f\"dictionary after removing all items: {my_dict}\")"
      ],
      "metadata": {
        "colab": {
          "base_uri": "https://localhost:8080/"
        },
        "id": "5jFLG_yRTUcH",
        "outputId": "9720fb98-e44f-4c5c-82bc-aa2a4fc1f372"
      },
      "execution_count": 9,
      "outputs": [
        {
          "output_type": "stream",
          "name": "stdout",
          "text": [
            "dictionary: {'name': 'Alice', 'age': 35, 'city': 'New York'}\n",
            "dictionary after removing all items: {}\n"
          ]
        }
      ]
    },
    {
      "cell_type": "code",
      "source": [
        "# Exercise 5: Merge two Python dictionaries into one\n",
        "\n",
        "dict1 = {'Ten': 10, 'Twenty': 20, 'Thirty': 30}\n",
        "dict2 = {'Thirty': 30, 'Fourty': 40, 'Fifty': 50}\n",
        "\n",
        "dict3 = {**dict1, **dict2}\n",
        "print(dict3)"
      ],
      "metadata": {
        "colab": {
          "base_uri": "https://localhost:8080/"
        },
        "id": "_E2dPV4zTbbn",
        "outputId": "bb07fe42-20b4-4ca7-c1ef-db96ea0e9fb9"
      },
      "execution_count": 10,
      "outputs": [
        {
          "output_type": "stream",
          "name": "stdout",
          "text": [
            "{'Ten': 10, 'Twenty': 20, 'Thirty': 30, 'Fourty': 40, 'Fifty': 50}\n"
          ]
        }
      ]
    },
    {
      "cell_type": "code",
      "source": [
        "# Exercise 6: Count Character Frequencies\n",
        "\n",
        "from collections import Counter\n",
        "\n",
        "string1 = 'Jessa'\n",
        "\n",
        "ls = [string1[i] for i in range(len(string1))]\n",
        "\n",
        "print(Counter(ls))"
      ],
      "metadata": {
        "colab": {
          "base_uri": "https://localhost:8080/"
        },
        "id": "Rnoob_YrTmHd",
        "outputId": "84bb00e2-f971-4ac0-d841-e9b87636632b"
      },
      "execution_count": 12,
      "outputs": [
        {
          "output_type": "stream",
          "name": "stdout",
          "text": [
            "Counter({'s': 2, 'J': 1, 'e': 1, 'a': 1})\n"
          ]
        }
      ]
    },
    {
      "cell_type": "code",
      "source": [
        "# Exercise 7: Access Nested Dictionary\n",
        "\n",
        "data = {'person': {'name': 'Alice', 'age': 30}}\n",
        "\n",
        "print(f\"{data['person']['name']}'s age is {data['person']['age']}\")"
      ],
      "metadata": {
        "colab": {
          "base_uri": "https://localhost:8080/"
        },
        "id": "9HbAWX9kT23k",
        "outputId": "2dd99e7b-5de9-4ee1-9531-ac62568a0956"
      },
      "execution_count": 15,
      "outputs": [
        {
          "output_type": "stream",
          "name": "stdout",
          "text": [
            "Alice's age is 30\n"
          ]
        }
      ]
    },
    {
      "cell_type": "code",
      "source": [
        "# Exercise 8: Print the value of key ‘history’ from nested dict\n",
        "\n",
        "sampleDict = {\n",
        "    \"class\": {\n",
        "        \"student\": {\n",
        "            \"name\": \"Mike\",\n",
        "            \"marks\": {\n",
        "                \"physics\": 70,\n",
        "                \"history\": 80\n",
        "            }\n",
        "        }\n",
        "    }\n",
        "}\n",
        "\n",
        "print(sampleDict['class']['student']['marks']['history'])"
      ],
      "metadata": {
        "colab": {
          "base_uri": "https://localhost:8080/"
        },
        "id": "oRLJD8tTUIvD",
        "outputId": "0948c4e7-9260-4257-f529-5d80c011440c"
      },
      "execution_count": 16,
      "outputs": [
        {
          "output_type": "stream",
          "name": "stdout",
          "text": [
            "80\n"
          ]
        }
      ]
    },
    {
      "cell_type": "code",
      "source": [
        "# Exercise 9: Modify Nested Dictionary\n",
        "\n",
        "nested_student_dict = {\n",
        "    \"class\": {\n",
        "        \"student\": {\n",
        "            \"name\": \"Mike\",\n",
        "            \"marks\": {\n",
        "                \"physics\": 70,\n",
        "                \"history\": 80\n",
        "            }\n",
        "        }\n",
        "    }\n",
        "}\n",
        "\n",
        "print(f\"Nested dictionary: {nested_student_dict}\")\n",
        "nested_student_dict['class']['student']['name'] = 'Jessa'\n",
        "\n",
        "print(f\"Dict after modification: {nested_student_dict}\")"
      ],
      "metadata": {
        "colab": {
          "base_uri": "https://localhost:8080/"
        },
        "id": "FMLSPJgRUdx5",
        "outputId": "9178b855-c80a-4624-abde-33dd27f63298"
      },
      "execution_count": 17,
      "outputs": [
        {
          "output_type": "stream",
          "name": "stdout",
          "text": [
            "Nested dictionary: {'class': {'student': {'name': 'Mike', 'marks': {'physics': 70, 'history': 80}}}}\n",
            "Dict after modification: {'class': {'student': {'name': 'Jessa', 'marks': {'physics': 70, 'history': 80}}}}\n"
          ]
        }
      ]
    },
    {
      "cell_type": "code",
      "source": [
        "# Exercise 10: Initialize dictionary with default values\n",
        "\n",
        "employees = ['Kelly', 'Emma']\n",
        "defaults = {\"designation\": 'Developer', \"salary\": 8000}\n",
        "\n",
        "res = dict.fromkeys(employees, defaults)\n",
        "print(res)\n",
        "\n",
        "print(res[\"Kelly\"])"
      ],
      "metadata": {
        "colab": {
          "base_uri": "https://localhost:8080/"
        },
        "id": "40NJmBJRUoRf",
        "outputId": "d2fcab23-88c5-440f-d7df-f910ec060218"
      },
      "execution_count": 18,
      "outputs": [
        {
          "output_type": "stream",
          "name": "stdout",
          "text": [
            "{'Kelly': {'designation': 'Developer', 'salary': 8000}, 'Emma': {'designation': 'Developer', 'salary': 8000}}\n",
            "{'designation': 'Developer', 'salary': 8000}\n"
          ]
        }
      ]
    },
    {
      "cell_type": "code",
      "source": [
        "# Exercise 11: Create a dictionary by extracting the keys from a given dictionary\n",
        "\n",
        "sampleDict = {\n",
        "  \"name\": \"Kelly\",\n",
        "  \"age\":25,\n",
        "  \"salary\": 8000,\n",
        "  \"city\": \"New york\" }\n",
        "\n",
        "keys = [\"name\", \"salary\"]\n",
        "\n",
        "newDict = {k: sampleDict[k] for k in keys}\n",
        "print(newDict)"
      ],
      "metadata": {
        "colab": {
          "base_uri": "https://localhost:8080/"
        },
        "id": "OGNt_aCVUuey",
        "outputId": "1be7fdfb-86d0-4de0-e90c-b84590d9822d"
      },
      "execution_count": 19,
      "outputs": [
        {
          "output_type": "stream",
          "name": "stdout",
          "text": [
            "{'name': 'Kelly', 'salary': 8000}\n"
          ]
        }
      ]
    },
    {
      "cell_type": "code",
      "source": [
        "# Exercise 12: Delete a list of keys from a dictionary\n",
        "\n",
        "sample_dict = {\n",
        "    \"name\": \"Kelly\",\n",
        "    \"age\": 25,\n",
        "    \"salary\": 8000,\n",
        "    \"city\": \"New york\"\n",
        "}\n",
        "keys = [\"name\", \"salary\"]\n",
        "\n",
        "for k in keys:\n",
        "    sample_dict.pop(k)\n",
        "print(sample_dict)"
      ],
      "metadata": {
        "colab": {
          "base_uri": "https://localhost:8080/"
        },
        "id": "3NdpSrC3U_bC",
        "outputId": "6748a50f-f335-489f-9ac9-d220aec828ea"
      },
      "execution_count": 20,
      "outputs": [
        {
          "output_type": "stream",
          "name": "stdout",
          "text": [
            "{'age': 25, 'city': 'New york'}\n"
          ]
        }
      ]
    },
    {
      "cell_type": "code",
      "source": [
        "# Exercise 13: Check if a value exists in a dictionary\n",
        "\n",
        "dic = {'a': 100, 'b': 200, 'c': 300}\n",
        "\n",
        "if 200 in dic.values():\n",
        "  print(\"200 is in dict\")\n",
        "else:\n",
        "  print(\"nop its not there\")"
      ],
      "metadata": {
        "colab": {
          "base_uri": "https://localhost:8080/"
        },
        "id": "nPWY4tbGVZ__",
        "outputId": "973fc6ff-bb05-497b-bbe2-831bea86e8f0"
      },
      "execution_count": 22,
      "outputs": [
        {
          "output_type": "stream",
          "name": "stdout",
          "text": [
            "200 is in dict\n"
          ]
        }
      ]
    },
    {
      "cell_type": "code",
      "source": [
        "# Exercise 14: Rename key of a dictionary\n",
        "\n",
        "sample_dict = {\n",
        "    \"name\": \"Kelly\",\n",
        "    \"age\": 25,\n",
        "    \"salary\": 8000,\n",
        "    \"city\": \"New york\"\n",
        "}\n",
        "\n",
        "sample_dict['location'] = sample_dict.pop('city')\n",
        "print(sample_dict)"
      ],
      "metadata": {
        "colab": {
          "base_uri": "https://localhost:8080/"
        },
        "id": "r-IpsS0NV5fj",
        "outputId": "f1333a5e-c7fb-4ab5-bc05-ba174ba54f61"
      },
      "execution_count": 23,
      "outputs": [
        {
          "output_type": "stream",
          "name": "stdout",
          "text": [
            "{'name': 'Kelly', 'age': 25, 'salary': 8000, 'location': 'New york'}\n"
          ]
        }
      ]
    },
    {
      "cell_type": "code",
      "source": [
        "# Exercise 15: Get the key of a minimum value\n",
        "\n",
        "sample_dict = {\n",
        "    'Physics': 82,\n",
        "    'Math': 65,\n",
        "    'history': 75\n",
        "}\n",
        "print(min(sample_dict, key=sample_dict.get))"
      ],
      "metadata": {
        "colab": {
          "base_uri": "https://localhost:8080/"
        },
        "id": "hghMJ27NV_YI",
        "outputId": "1b4a1079-cd66-4d9d-f0cc-993e1032aad9"
      },
      "execution_count": 24,
      "outputs": [
        {
          "output_type": "stream",
          "name": "stdout",
          "text": [
            "Math\n"
          ]
        }
      ]
    },
    {
      "cell_type": "code",
      "source": [
        "# Exercise 16: Change value of a key in a nested dictionary\n",
        "\n",
        "sample_dict = {\n",
        "    'emp1': {'name': 'Jhon', 'salary': 7500},\n",
        "    'emp2': {'name': 'Emma', 'salary': 8000},\n",
        "    'emp3': {'name': 'Brad', 'salary': 6500}\n",
        "}\n",
        "\n",
        "sample_dict['emp3']['salary'] = 8500\n",
        "print(sample_dict)"
      ],
      "metadata": {
        "colab": {
          "base_uri": "https://localhost:8080/"
        },
        "id": "6HOXDnHxWTQS",
        "outputId": "0cc4e9c2-7c0d-4658-c64b-0595128bcb24"
      },
      "execution_count": 25,
      "outputs": [
        {
          "output_type": "stream",
          "name": "stdout",
          "text": [
            "{'emp1': {'name': 'Jhon', 'salary': 7500}, 'emp2': {'name': 'Emma', 'salary': 8000}, 'emp3': {'name': 'Brad', 'salary': 8500}}\n"
          ]
        }
      ]
    },
    {
      "cell_type": "code",
      "source": [
        "# Exercise 17: Invert Dictionary\n",
        "\n",
        "def invert_dictionary(input_dict):\n",
        "  inverted_dict = {}\n",
        "  for key, value in input_dict.items():\n",
        "    inverted_dict[value] = key\n",
        "  return inverted_dict\n",
        "\n",
        "original_dict1 = {'a': 1, 'b': 2, 'c': 3}\n",
        "\n",
        "print(f\"Original dictionary 1: {original_dict1}\")\n",
        "print(f\"Inverted dictionary 1: {invert_dictionary(original_dict1)}\")"
      ],
      "metadata": {
        "colab": {
          "base_uri": "https://localhost:8080/"
        },
        "id": "MsiVO6kBWXKH",
        "outputId": "c445f4f1-3a2d-444e-e990-98f2a5ef290e"
      },
      "execution_count": 26,
      "outputs": [
        {
          "output_type": "stream",
          "name": "stdout",
          "text": [
            "Original dictionary 1: {'a': 1, 'b': 2, 'c': 3}\n",
            "Inverted dictionary 1: {1: 'a', 2: 'b', 3: 'c'}\n"
          ]
        }
      ]
    },
    {
      "cell_type": "code",
      "source": [
        "# Exercise 18: Sort Dictionary by Keys\n",
        "\n",
        "from collections import OrderedDict\n",
        "\n",
        "my_dict = {'apple': 3, 'zebra': 1, 'banana': 2, 'cat': 4}\n",
        "print(f\"Original dictionary: {my_dict}\")\n",
        "\n",
        "print(\"\\nSorted by keys (as OrderedDict):\")\n",
        "sorted_by_key_ordered_dict = OrderedDict(sorted(my_dict.items()))\n",
        "print(sorted_by_key_ordered_dict)"
      ],
      "metadata": {
        "colab": {
          "base_uri": "https://localhost:8080/"
        },
        "id": "geThgIGjWcnZ",
        "outputId": "d72dba93-a75c-4f9a-da91-1e613eebfb41"
      },
      "execution_count": 28,
      "outputs": [
        {
          "output_type": "stream",
          "name": "stdout",
          "text": [
            "Original dictionary: {'apple': 3, 'zebra': 1, 'banana': 2, 'cat': 4}\n",
            "\n",
            "Sorted by keys (as OrderedDict):\n",
            "OrderedDict({'apple': 3, 'banana': 2, 'cat': 4, 'zebra': 1})\n"
          ]
        }
      ]
    },
    {
      "cell_type": "code",
      "source": [
        "# Exercise 19: Sort Dictionary by Values\n",
        "\n",
        "from collections import OrderedDict\n",
        "\n",
        "my_dict = {'Jessa': 3, 'Kelly': 1, 'Jon': 2, 'Kerry': 4, 'Joy': 1}\n",
        "print(f\"Original dictionary: {my_dict}\")\n",
        "\n",
        "# Method 1: Create an OrderedDict sorted by values\n",
        "print(\"\\nSorted by values (as OrderedDict):\")\n",
        "sorted_by_value_ordered_dict = OrderedDict(my_dict)\n",
        "print(sorted_by_value_ordered_dict)"
      ],
      "metadata": {
        "colab": {
          "base_uri": "https://localhost:8080/"
        },
        "id": "_7oY4cGEWtkd",
        "outputId": "8d958097-4928-4a00-956c-36f0a9c8c1fa"
      },
      "execution_count": 29,
      "outputs": [
        {
          "output_type": "stream",
          "name": "stdout",
          "text": [
            "Original dictionary: {'Jessa': 3, 'Kelly': 1, 'Jon': 2, 'Kerry': 4, 'Joy': 1}\n",
            "\n",
            "Sorted by values (as OrderedDict):\n",
            "OrderedDict({'Jessa': 3, 'Kelly': 1, 'Jon': 2, 'Kerry': 4, 'Joy': 1})\n"
          ]
        }
      ]
    },
    {
      "cell_type": "code",
      "source": [
        "# Exercise 20: Check if All Values are Unique\n",
        "\n",
        "def are_all_values_unique(input_dict):\n",
        "  all_values = list(input_dict.values())\n",
        "\n",
        "  unique_values_set = set(all_values)\n",
        "\n",
        "  return len(all_values) == len(unique_values_set)\n",
        "\n",
        "dict1 = {'a': 1, 'b': 2, 'c': 3}\n",
        "dict2 = {'x': 10, 'y': 20, 'z': 10}\n",
        "dict3 = {}\n",
        "\n",
        "print(f\"Dictionary: {dict1} -> All values unique? {are_all_values_unique(dict1)}\")\n",
        "print(f\"Dictionary: {dict2} -> All values unique? {are_all_values_unique(dict2)}\")\n",
        "print(f\"Dictionary: {dict3} -> All values unique? {are_all_values_unique(dict3)}\")"
      ],
      "metadata": {
        "colab": {
          "base_uri": "https://localhost:8080/"
        },
        "id": "YlFArvMpW3xK",
        "outputId": "46f9f9e2-9a81-4353-f8e1-48a8b399888a"
      },
      "execution_count": 30,
      "outputs": [
        {
          "output_type": "stream",
          "name": "stdout",
          "text": [
            "Dictionary: {'a': 1, 'b': 2, 'c': 3} -> All values unique? True\n",
            "Dictionary: {'x': 10, 'y': 20, 'z': 10} -> All values unique? False\n",
            "Dictionary: {} -> All values unique? True\n"
          ]
        }
      ]
    }
  ]
}