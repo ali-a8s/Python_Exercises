{
  "nbformat": 4,
  "nbformat_minor": 0,
  "metadata": {
    "colab": {
      "provenance": []
    },
    "kernelspec": {
      "name": "python3",
      "display_name": "Python 3"
    },
    "language_info": {
      "name": "python"
    }
  },
  "cells": [
    {
      "cell_type": "code",
      "execution_count": 2,
      "metadata": {
        "colab": {
          "base_uri": "https://localhost:8080/"
        },
        "id": "crm2cdajBk5V",
        "outputId": "d262722c-9f73-4a0a-bd32-c8cd899f1569"
      },
      "outputs": [
        {
          "output_type": "stream",
          "name": "stdout",
          "text": [
            "[6, 12, 18, 4, 12, 20, 28]\n"
          ]
        }
      ],
      "source": [
        "# Exercise 1: List Creation using two lists\n",
        "# odd-indexed elements from the first list and even-indexed elements from the second\n",
        "\n",
        "l1 = [3, 6, 9, 12, 15, 18, 21]\n",
        "l2 = [4, 8, 12, 16, 20, 24, 28]\n",
        "\n",
        "res = []\n",
        "\n",
        "for i in range(len(l1)):\n",
        "  if i % 2 != 0:\n",
        "    res.append(l1[i])\n",
        "\n",
        "for j in range(len(l2)):\n",
        "  if j % 2 == 0:\n",
        "    res.append(l2[j])\n",
        "\n",
        "print(res)"
      ]
    },
    {
      "cell_type": "code",
      "source": [
        "# Exercise 2: Remove and add item in a list\n",
        "# remove the item present at index 4\n",
        "# add it to the 2nd position\n",
        "# at the end of the list.\n",
        "\n",
        "list1 = [54, 44, 27, 79, 91, 41]\n",
        "\n",
        "list1.pop(4)\n",
        "print(f\"List After removing element at index 4: {list1}\")\n",
        "\n",
        "list1.insert(2, 91)\n",
        "print(f\"List after Adding element at index 2: {list1}\")\n",
        "\n",
        "list1.append(11)\n",
        "print(f\"List after Adding element at last: {list1}\")"
      ],
      "metadata": {
        "colab": {
          "base_uri": "https://localhost:8080/"
        },
        "id": "N9LI15f1CSj3",
        "outputId": "8427a24e-3cf2-4351-d1e7-6332d8b26106"
      },
      "execution_count": 6,
      "outputs": [
        {
          "output_type": "stream",
          "name": "stdout",
          "text": [
            "List After removing element at index 4: [54, 44, 27, 79, 41]\n",
            "List after Adding element at index 2: [54, 44, 91, 27, 79, 41]\n",
            "List after Adding element at last: [54, 44, 91, 27, 79, 41, 11]\n"
          ]
        }
      ]
    },
    {
      "cell_type": "code",
      "source": [
        "# Exercise 3: Slice list into 3 equal chunks and reverse each chunk\n",
        "\n",
        "sample_list = [11, 45, 8, 23, 14, 12, 78, 45, 89]\n",
        "print(\"Original list \", sample_list)\n",
        "\n",
        "length = len(sample_list)\n",
        "chunk_size = int(length / 3)\n",
        "start = 0\n",
        "end = chunk_size\n",
        "\n",
        "for i in range(3):\n",
        "    indexes = slice(start, end)\n",
        "\n",
        "    list_chunk = sample_list[indexes]\n",
        "    print(\"Chunk \", i, list_chunk)\n",
        "\n",
        "    print(\"After reversing it \", list(reversed(list_chunk)))\n",
        "\n",
        "    start = end\n",
        "    end += chunk_size"
      ],
      "metadata": {
        "colab": {
          "base_uri": "https://localhost:8080/"
        },
        "id": "y1uaIKYoC-Cs",
        "outputId": "330362a4-365a-416f-be4f-c85b1a43a660"
      },
      "execution_count": 7,
      "outputs": [
        {
          "output_type": "stream",
          "name": "stdout",
          "text": [
            "Original list  [11, 45, 8, 23, 14, 12, 78, 45, 89]\n",
            "Chunk  0 [11, 45, 8]\n",
            "After reversing it  [8, 45, 11]\n",
            "Chunk  1 [23, 14, 12]\n",
            "After reversing it  [12, 14, 23]\n",
            "Chunk  2 [78, 45, 89]\n",
            "After reversing it  [89, 45, 78]\n"
          ]
        }
      ]
    },
    {
      "cell_type": "code",
      "source": [
        "# Exercise 4: Count the occurrence of each element from a list\n",
        "\n",
        "from collections import Counter\n",
        "\n",
        "sample_list = [11, 45, 8, 11, 23, 45, 23, 45, 89]\n",
        "\n",
        "print(Counter(sample_list))"
      ],
      "metadata": {
        "colab": {
          "base_uri": "https://localhost:8080/"
        },
        "id": "44ILAn_6D48q",
        "outputId": "ae27f645-4f3e-41b0-9d8e-27b27a79667a"
      },
      "execution_count": 8,
      "outputs": [
        {
          "output_type": "stream",
          "name": "stdout",
          "text": [
            "Counter({45: 3, 11: 2, 23: 2, 8: 1, 89: 1})\n"
          ]
        }
      ]
    },
    {
      "cell_type": "code",
      "source": [
        "# Exercise 5: Paired Elements from Two Lists as a Set\n",
        "\n",
        "lst1 = [2, 3, 4, 5, 6, 7, 8]\n",
        "lst2 = [4, 9, 16, 25, 36, 49, 64]\n",
        "\n",
        "result = zip(lst1, lst2)\n",
        "result_set = set(result)\n",
        "print(result_set)"
      ],
      "metadata": {
        "colab": {
          "base_uri": "https://localhost:8080/"
        },
        "id": "-C-HP9QcED4w",
        "outputId": "7020f272-959f-4ad5-ed53-e46af6d12b9b"
      },
      "execution_count": 9,
      "outputs": [
        {
          "output_type": "stream",
          "name": "stdout",
          "text": [
            "{(7, 49), (2, 4), (4, 16), (8, 64), (6, 36), (3, 9), (5, 25)}\n"
          ]
        }
      ]
    },
    {
      "cell_type": "code",
      "source": [
        "# Exercise 6: Set Intersection and Removal\n",
        "\n",
        "first_set = {23, 42, 65, 57, 78, 83, 29}\n",
        "second_set = {57, 83, 29, 67, 73, 43, 48}\n",
        "\n",
        "print(\"First Set \", first_set)\n",
        "print(\"Second Set \", second_set)\n",
        "\n",
        "intersection = first_set.intersection(second_set)\n",
        "print(\"Intersection is \", intersection)\n",
        "for item in intersection:\n",
        "    first_set.remove(item)\n",
        "\n",
        "print(\"First Set after removing common element \", first_set)"
      ],
      "metadata": {
        "colab": {
          "base_uri": "https://localhost:8080/"
        },
        "id": "SdP2c-TkEYW7",
        "outputId": "5e8f7473-ad68-4f93-985a-2d143c28af4b"
      },
      "execution_count": 10,
      "outputs": [
        {
          "output_type": "stream",
          "name": "stdout",
          "text": [
            "First Set  {65, 83, 23, 57, 42, 29, 78}\n",
            "Second Set  {48, 67, 83, 73, 43, 29, 57}\n",
            "Intersection is  {57, 83, 29}\n",
            "First Set after removing common element  {65, 23, 42, 78}\n"
          ]
        }
      ]
    },
    {
      "cell_type": "code",
      "source": [
        "# Exercise 7: Subset or Superset of another set\n",
        "\n",
        "first_set = {57, 83, 29}\n",
        "second_set = {57, 83, 29, 67, 73, 43, 48}\n",
        "\n",
        "print(\"First Set \", first_set)\n",
        "print(\"Second Set \", second_set)\n",
        "\n",
        "print(\"First set is subset of second set -\", first_set.issubset(second_set))\n",
        "print(\"Second set is subset of First set - \", second_set.issubset(first_set))\n",
        "\n",
        "print(\"First set is Super set of second set - \", first_set.issuperset(second_set))\n",
        "print(\"Second set is Super set of First set - \", second_set.issuperset(first_set))\n",
        "\n",
        "if first_set.issubset(second_set):\n",
        "    first_set.clear()\n",
        "\n",
        "if second_set.issubset(first_set):\n",
        "    second_set.clear()\n",
        "\n",
        "print(\"First Set \", first_set)\n",
        "print(\"Second Set \", second_set)"
      ],
      "metadata": {
        "colab": {
          "base_uri": "https://localhost:8080/"
        },
        "id": "LwhURqgRElCo",
        "outputId": "eb61c622-f856-4c5e-bba1-a6ac04cf5b42"
      },
      "execution_count": 11,
      "outputs": [
        {
          "output_type": "stream",
          "name": "stdout",
          "text": [
            "First Set  {57, 83, 29}\n",
            "Second Set  {48, 67, 83, 73, 43, 29, 57}\n",
            "First set is subset of second set - True\n",
            "Second set is subset of First set -  False\n",
            "First set is Super set of second set -  False\n",
            "Second set is Super set of First set -  True\n",
            "First Set  set()\n",
            "Second Set  {48, 67, 83, 73, 43, 29, 57}\n"
          ]
        }
      ]
    },
    {
      "cell_type": "code",
      "source": [
        "# Exercise 8: Filter List Against Dictionary Values\n",
        "\n",
        "roll_number = [47, 64, 69, 37, 76, 83, 95, 97]\n",
        "sample_dict = {'Jhon': 47, 'Emma': 69, 'Kelly': 76, 'Jason': 97}\n",
        "\n",
        "print(\"List:\", roll_number)\n",
        "print(\"Dictionary:\", sample_dict)\n",
        "\n",
        "roll_number[:] = [item for item in roll_number if item in sample_dict.values()]\n",
        "print(\"after removing unwanted elements from list:\", roll_number)\n"
      ],
      "metadata": {
        "colab": {
          "base_uri": "https://localhost:8080/"
        },
        "id": "CrymlYD9Exo7",
        "outputId": "1787b2d6-b221-4e2f-e0bd-4fa06fb2e135"
      },
      "execution_count": 12,
      "outputs": [
        {
          "output_type": "stream",
          "name": "stdout",
          "text": [
            "List: [47, 64, 69, 37, 76, 83, 95, 97]\n",
            "Dictionary: {'Jhon': 47, 'Emma': 69, 'Kelly': 76, 'Jason': 97}\n",
            "after removing unwanted elements from list: [47, 69, 76, 97]\n"
          ]
        }
      ]
    },
    {
      "cell_type": "code",
      "source": [
        "# Exercise 9: Extract Unique Dictionary Values to List\n",
        "\n",
        "speed = {'jan': 47, 'feb': 52, 'march': 47, 'April': 44, 'May': 52, 'June': 53,\n",
        "         'july': 54, 'Aug': 44, 'Sept': 54}\n",
        "\n",
        "print(\"Dictionary's values - \", speed.values())\n",
        "\n",
        "speed_list = list()\n",
        "\n",
        "for val in speed.values():\n",
        "    if val not in speed_list:\n",
        "        speed_list.append(val)\n",
        "print(\"unique list\", speed_list)"
      ],
      "metadata": {
        "colab": {
          "base_uri": "https://localhost:8080/"
        },
        "id": "Qz2J35xAE2yP",
        "outputId": "3ac63ac3-789f-472b-cc1e-c1c185a81071"
      },
      "execution_count": 13,
      "outputs": [
        {
          "output_type": "stream",
          "name": "stdout",
          "text": [
            "Dictionary's values -  dict_values([47, 52, 47, 44, 52, 53, 54, 44, 54])\n",
            "unique list [47, 52, 44, 53, 54]\n"
          ]
        }
      ]
    },
    {
      "cell_type": "code",
      "source": [
        "# Exercise 10: remove duplicates from a list\n",
        "\n",
        "sample_list = [87, 52, 44, 53, 54, 87, 52, 53]\n",
        "\n",
        "print(\"Original list\", sample_list)\n",
        "\n",
        "sample_list = list(set(sample_list))\n",
        "print(\"unique list\", sample_list)\n",
        "\n",
        "t = tuple(sample_list)\n",
        "print(\"tuple \", t)\n",
        "\n",
        "print(\"Minimum number is: \", min(t))\n",
        "print(\"Maximum number is: \", max(t))"
      ],
      "metadata": {
        "colab": {
          "base_uri": "https://localhost:8080/"
        },
        "id": "aJBheRPpE7bS",
        "outputId": "bfef71bf-a37f-4635-8a81-ecdcec343b6b"
      },
      "execution_count": 14,
      "outputs": [
        {
          "output_type": "stream",
          "name": "stdout",
          "text": [
            "Original list [87, 52, 44, 53, 54, 87, 52, 53]\n",
            "unique list [44, 52, 53, 54, 87]\n",
            "tuple  (44, 52, 53, 54, 87)\n",
            "Minimum number is:  44\n",
            "Maximum number is:  87\n"
          ]
        }
      ]
    }
  ]
}