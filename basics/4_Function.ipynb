{
  "nbformat": 4,
  "nbformat_minor": 0,
  "metadata": {
    "colab": {
      "provenance": []
    },
    "kernelspec": {
      "name": "python3",
      "display_name": "Python 3"
    },
    "language_info": {
      "name": "python"
    }
  },
  "cells": [
    {
      "cell_type": "code",
      "execution_count": 1,
      "metadata": {
        "colab": {
          "base_uri": "https://localhost:8080/"
        },
        "id": "wiMiw9H5wZfF",
        "outputId": "f6346bc0-4547-4f20-9147-b6b14f45b1d6"
      },
      "outputs": [
        {
          "output_type": "stream",
          "name": "stdout",
          "text": [
            "Ben 25\n"
          ]
        }
      ],
      "source": [
        "# Exercise 1: create a function that takes two arguments, name and age, and prints their values.\n",
        "\n",
        "def demo(name, age):\n",
        "    print(name, age)\n",
        "\n",
        "demo(\"Ben\", 25)"
      ]
    },
    {
      "cell_type": "code",
      "source": [
        "# Exercise 2: Create a function with variable length of arguments\n",
        "\n",
        "def func1(*args):\n",
        "  for i in args:\n",
        "    print(i)\n",
        "\n",
        "func1(20, 40, 60)"
      ],
      "metadata": {
        "colab": {
          "base_uri": "https://localhost:8080/"
        },
        "id": "tHeQrlRKwo1G",
        "outputId": "944b79ff-c6b0-48d3-e4da-db6a0c59f08a"
      },
      "execution_count": 2,
      "outputs": [
        {
          "output_type": "stream",
          "name": "stdout",
          "text": [
            "20\n",
            "40\n",
            "60\n"
          ]
        }
      ]
    },
    {
      "cell_type": "code",
      "source": [
        "# Exercise 3: Return multiple values from a function\n",
        "\n",
        "def calculation(a, b):\n",
        "    add = a + b\n",
        "    subtract = a - b\n",
        "    return f\"{add}, {subtract}\"\n",
        "\n",
        "res = calculation(40, 10)\n",
        "print(res)"
      ],
      "metadata": {
        "colab": {
          "base_uri": "https://localhost:8080/"
        },
        "id": "EtHNhFTzyOp_",
        "outputId": "d779a181-ff07-4a71-eb2e-0e462cc0860b"
      },
      "execution_count": 3,
      "outputs": [
        {
          "output_type": "stream",
          "name": "stdout",
          "text": [
            "50, 30\n"
          ]
        }
      ]
    },
    {
      "cell_type": "code",
      "source": [
        "# Exercise 4: Create a function with a default argument\n",
        "\n",
        "def showEmployee(name, salary= 9000):\n",
        "  print(f\"Name: {name} salary: {salary}\")\n",
        "\n",
        "showEmployee(\"Ben\", 12000)\n",
        "showEmployee(\"Jessa\")"
      ],
      "metadata": {
        "colab": {
          "base_uri": "https://localhost:8080/"
        },
        "id": "CiyFI9Syyu9t",
        "outputId": "9cf06d42-0032-4655-cf46-b2f293f9fee5"
      },
      "execution_count": 4,
      "outputs": [
        {
          "output_type": "stream",
          "name": "stdout",
          "text": [
            "Name: Ben salary: 12000\n",
            "Name: Jessa salary: 9000\n"
          ]
        }
      ]
    },
    {
      "cell_type": "code",
      "source": [
        "# Exercise 5: Create an inner function\n",
        "\n",
        "def outer_fun(a, b):\n",
        "    square = a ** 2\n",
        "\n",
        "    def addition(a, b):\n",
        "        return a + b\n",
        "\n",
        "    add = addition(a, b)\n",
        "    return add + 5\n",
        "\n",
        "result = outer_fun(5, 10)\n",
        "print(result)"
      ],
      "metadata": {
        "colab": {
          "base_uri": "https://localhost:8080/"
        },
        "id": "1R1YQGbizA4i",
        "outputId": "14c94bd3-13b9-4397-c706-c532d5facf04"
      },
      "execution_count": 5,
      "outputs": [
        {
          "output_type": "stream",
          "name": "stdout",
          "text": [
            "20\n"
          ]
        }
      ]
    },
    {
      "cell_type": "code",
      "source": [
        "# Exercise 6: Create a recursive function\n",
        "\n",
        "def addition(num):\n",
        "    if num:\n",
        "        return num + addition(num - 1)\n",
        "    else:\n",
        "        return 0\n",
        "\n",
        "res = addition(10)\n",
        "print(res)"
      ],
      "metadata": {
        "colab": {
          "base_uri": "https://localhost:8080/"
        },
        "id": "0hKkvRCpzIO_",
        "outputId": "2c0e3021-a4dd-47e1-dd6e-f69d39df5317"
      },
      "execution_count": 6,
      "outputs": [
        {
          "output_type": "stream",
          "name": "stdout",
          "text": [
            "55\n"
          ]
        }
      ]
    },
    {
      "cell_type": "code",
      "source": [
        "# Exercise 7: Assign a different name to function and call it through the new name\n",
        "\n",
        "def display_student(name, age):\n",
        "    print(name, age)\n",
        "\n",
        "display_student(\"Emma\", 26)\n",
        "\n",
        "show_student = display_student\n",
        "show_student(\"Emma\", 26)"
      ],
      "metadata": {
        "colab": {
          "base_uri": "https://localhost:8080/"
        },
        "id": "UJQShIVazmQJ",
        "outputId": "996e52c8-1706-484b-fd61-67ce7af7789b"
      },
      "execution_count": 7,
      "outputs": [
        {
          "output_type": "stream",
          "name": "stdout",
          "text": [
            "Emma 26\n",
            "Emma 26\n"
          ]
        }
      ]
    },
    {
      "cell_type": "code",
      "source": [
        "# Exercise 8: Generate a Python list of all the even numbers between 4 to 30\n",
        "\n",
        "def even_range(num1, num2):\n",
        "  ls = []\n",
        "  for i in range(num1, num2 + 1):\n",
        "    if i % 2 == 0:\n",
        "      ls.append(i)\n",
        "  print(ls)\n",
        "\n",
        "even_range(4, 30)"
      ],
      "metadata": {
        "colab": {
          "base_uri": "https://localhost:8080/"
        },
        "id": "bW8K9A8zz7gF",
        "outputId": "d6fd3e3d-eaa4-484c-e57a-7f419c068b6f"
      },
      "execution_count": 8,
      "outputs": [
        {
          "output_type": "stream",
          "name": "stdout",
          "text": [
            "[4, 6, 8, 10, 12, 14, 16, 18, 20, 22, 24, 26, 28, 30]\n"
          ]
        }
      ]
    },
    {
      "cell_type": "code",
      "source": [
        "# Exercise 9: Find the largest item from list\n",
        "\n",
        "x = [4, 6, 8, 24, 12, 2]\n",
        "print(max(x))"
      ],
      "metadata": {
        "colab": {
          "base_uri": "https://localhost:8080/"
        },
        "id": "U_6ZxYIz1GUi",
        "outputId": "4c4ae4cb-54fd-4674-ba35-3628c8d0d92f"
      },
      "execution_count": 10,
      "outputs": [
        {
          "output_type": "stream",
          "name": "stdout",
          "text": [
            "24\n"
          ]
        }
      ]
    },
    {
      "cell_type": "code",
      "source": [
        "# Exercise 10: Call Function using both positional and keyword arguments\n",
        "\n",
        "def describe_pet(animal_type, pet_name):\n",
        "  print(f\"\\nI have a {animal_type} named {pet_name}.\")\n",
        "\n",
        "describe_pet('hamster', 'Harry')\n",
        "describe_pet('dog', 'Lucy')\n",
        "\n",
        "describe_pet(animal_type='cat', pet_name='Whiskers')\n",
        "describe_pet(pet_name='Buddy', animal_type='goldfish')"
      ],
      "metadata": {
        "colab": {
          "base_uri": "https://localhost:8080/"
        },
        "id": "vB6Ooxec1jEb",
        "outputId": "fc0a8678-a994-4ef8-bacd-ed33d44ad1ab"
      },
      "execution_count": 11,
      "outputs": [
        {
          "output_type": "stream",
          "name": "stdout",
          "text": [
            "\n",
            "I have a hamster named Harry.\n",
            "\n",
            "I have a dog named Lucy.\n",
            "\n",
            "I have a cat named Whiskers.\n",
            "\n",
            "I have a goldfish named Buddy.\n"
          ]
        }
      ]
    },
    {
      "cell_type": "code",
      "source": [
        "# Exercise 11: Create a function with keyword arguments\n",
        "\n",
        "def print_info(**kwargs):\n",
        "    if kwargs:\n",
        "        print(\"\\n--- Information ---\")\n",
        "        for key, value in kwargs.items():\n",
        "            print(f\"{key}: {value}\")\n",
        "    else:\n",
        "        print(\"\\nNo information provided.\")\n",
        "\n",
        "print_info(name=\"Alice\", age=30, city=\"New York\")\n",
        "print_info(job=\"Engineer\", salary=75000)\n",
        "print_info(country=\"USA\", state=\"California\", zip_code=\"90210\")\n",
        "print_info()"
      ],
      "metadata": {
        "colab": {
          "base_uri": "https://localhost:8080/"
        },
        "id": "lIiEfolN12b0",
        "outputId": "e40c1247-9e6d-403a-8524-432553165ca8"
      },
      "execution_count": 12,
      "outputs": [
        {
          "output_type": "stream",
          "name": "stdout",
          "text": [
            "\n",
            "--- Information ---\n",
            "name: Alice\n",
            "age: 30\n",
            "city: New York\n",
            "\n",
            "--- Information ---\n",
            "job: Engineer\n",
            "salary: 75000\n",
            "\n",
            "--- Information ---\n",
            "country: USA\n",
            "state: California\n",
            "zip_code: 90210\n",
            "\n",
            "No information provided.\n"
          ]
        }
      ]
    },
    {
      "cell_type": "code",
      "source": [
        "# Exercise 12: Modifies global variable\n",
        "\n",
        "def factorial_recursive(n):\n",
        "    if n < 0:\n",
        "        raise ValueError(\"Factorial is not defined for negative numbers\")\n",
        "    elif n == 0:\n",
        "        return 1\n",
        "    else:\n",
        "        return n * factorial_recursive(n - 1)\n",
        "\n",
        "number = 5\n",
        "result = factorial_recursive(number)\n",
        "print(f\"The factorial of {number} is {result}\")"
      ],
      "metadata": {
        "colab": {
          "base_uri": "https://localhost:8080/"
        },
        "id": "JJ_08sBu2HY6",
        "outputId": "ee6546e3-b688-4e58-beed-5b67ab37d4a3"
      },
      "execution_count": 13,
      "outputs": [
        {
          "output_type": "stream",
          "name": "stdout",
          "text": [
            "The factorial of 5 is 120\n"
          ]
        }
      ]
    },
    {
      "cell_type": "code",
      "source": [
        "# Exercise 14: Create a lambda function that squares a given number\n",
        "\n",
        "squares = lambda x: x ** 2\n",
        "\n",
        "squares(5)"
      ],
      "metadata": {
        "colab": {
          "base_uri": "https://localhost:8080/"
        },
        "id": "0bfoOPkH2TvD",
        "outputId": "1730a43b-2bcf-4206-cbcd-1d39e2193e85"
      },
      "execution_count": 14,
      "outputs": [
        {
          "output_type": "execute_result",
          "data": {
            "text/plain": [
              "25"
            ]
          },
          "metadata": {},
          "execution_count": 14
        }
      ]
    },
    {
      "cell_type": "code",
      "source": [
        "# Exercise 15: Use a lambda with the filter() function to get all even numbers from a list\n",
        "\n",
        "numbers = [1, 2, 3, 4, 5, 6, 7, 8, 9, 10]\n",
        "\n",
        "res = filter(lambda x: x % 2 == 0, numbers)\n",
        "\n",
        "print(f\"The even numbers in the list are: {res}\")"
      ],
      "metadata": {
        "colab": {
          "base_uri": "https://localhost:8080/"
        },
        "id": "Hfr89mLk2mvY",
        "outputId": "a22c6b11-fee1-4516-fbeb-03504d96a69d"
      },
      "execution_count": 16,
      "outputs": [
        {
          "output_type": "stream",
          "name": "stdout",
          "text": [
            "The even numbers in the list are: <filter object at 0x7f98cd00a170>\n"
          ]
        }
      ]
    },
    {
      "cell_type": "code",
      "source": [
        "# Exercise 16: Use a lambda with the map() function to double each element in a list\n",
        "\n",
        "numbers = [1, 2, 3, 4, 5]\n",
        "\n",
        "res = list(map(lambda x: x * 2, numbers))\n",
        "\n",
        "print(f\"The doubled numbers are: {res}\")"
      ],
      "metadata": {
        "colab": {
          "base_uri": "https://localhost:8080/"
        },
        "id": "jD0BaJFN224F",
        "outputId": "5c4b5b50-d3e2-45d7-ee41-2b2acc1ab6c4"
      },
      "execution_count": 17,
      "outputs": [
        {
          "output_type": "stream",
          "name": "stdout",
          "text": [
            "The doubled numbers are: [2, 4, 6, 8, 10]\n"
          ]
        }
      ]
    },
    {
      "cell_type": "code",
      "source": [
        "# Exercise 17: Use a lambda with the sorted() function to sort a list of tuples based on the second element\n",
        "\n",
        "data = [('apple', 5), ('banana', 2), ('cherry', 8), ('date', 1)]\n",
        "\n",
        "sorted_data = sorted(data, key=lambda item: item[1])\n",
        "\n",
        "print(f\"The sorted list of tuples based on the second element is: {sorted_data}\")"
      ],
      "metadata": {
        "colab": {
          "base_uri": "https://localhost:8080/"
        },
        "id": "zFgP-Y6i3HiK",
        "outputId": "daad9c15-e056-45dd-b9a2-8d9e3646da4a"
      },
      "execution_count": 18,
      "outputs": [
        {
          "output_type": "stream",
          "name": "stdout",
          "text": [
            "The sorted list of tuples based on the second element is: [('date', 1), ('banana', 2), ('apple', 5), ('cherry', 8)]\n"
          ]
        }
      ]
    },
    {
      "cell_type": "code",
      "source": [
        "# Exercise 18: Create Higher-Order Function\n",
        "\n",
        "def apply_operation(func, x, y):\n",
        "  return func(x, y)\n",
        "\n",
        "def add(a, b):\n",
        "  return a + b\n",
        "\n",
        "result_add = apply_operation(add, 5, 3)\n",
        "print(f\"Result of addition: {result_add}\")\n",
        "\n",
        "subtract = lambda a, b: a - b\n",
        "result_subtract = apply_operation(subtract, 10, 4)\n",
        "print(f\"Result of subtraction: {result_subtract}\")\n",
        "\n",
        "multiply = lambda a, b: a * b\n",
        "result_multiply = apply_operation(multiply, 2, 6)\n",
        "print(f\"Result of multiplication: {result_multiply}\")"
      ],
      "metadata": {
        "colab": {
          "base_uri": "https://localhost:8080/"
        },
        "id": "uUXNI_dk3Q0P",
        "outputId": "e7468200-e50e-4f8f-f22c-6205a6e53541"
      },
      "execution_count": 19,
      "outputs": [
        {
          "output_type": "stream",
          "name": "stdout",
          "text": [
            "Result of addition: 8\n",
            "Result of subtraction: 6\n",
            "Result of multiplication: 12\n"
          ]
        }
      ]
    }
  ]
}