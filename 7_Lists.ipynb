{
  "nbformat": 4,
  "nbformat_minor": 0,
  "metadata": {
    "colab": {
      "provenance": []
    },
    "kernelspec": {
      "name": "python3",
      "display_name": "Python 3"
    },
    "language_info": {
      "name": "python"
    }
  },
  "cells": [
    {
      "cell_type": "code",
      "execution_count": 1,
      "metadata": {
        "colab": {
          "base_uri": "https://localhost:8080/"
        },
        "id": "C5ME3GxFFRRC",
        "outputId": "0f772fad-3d8e-45d2-d5ba-df2fadfe68a2"
      },
      "outputs": [
        {
          "output_type": "stream",
          "name": "stdout",
          "text": [
            "Third item:  30\n",
            "Length of the list: 5\n",
            "list is not empty\n"
          ]
        }
      ],
      "source": [
        "# Exercise 1: Perform Basic List Operations\n",
        "\n",
        "my_list = [10, 20, 30, 40, 50]\n",
        "\n",
        "print(f\"Third item:  {my_list[2]}\")\n",
        "print(f\"Length of the list: {len(my_list)}\")\n",
        "if my_list == []:\n",
        "  print('list is empty')\n",
        "else:\n",
        "  print('list is not empty')"
      ]
    },
    {
      "cell_type": "code",
      "source": [
        "# Exercise 2: Perform List Manipulation\n",
        "# Change Element: Change the second element of a list to 200 and print the updated list.\n",
        "# Append Element: Add 600 o the end of a list and print the new list.\n",
        "# Insert Element: Insert 300 at the third position (index 2) of a list and print the result.\n",
        "# Remove Element (by value): Remove 600 from the list and print the list.\n",
        "# Remove Element (by index): Remove the element at index 0 from the list print the list.\n",
        "\n",
        "lst = [10, 20, 30, 40, 50]\n",
        "\n",
        "lst[1] = 200\n",
        "print(f\"change element: {lst}\")\n",
        "lst.append(600)\n",
        "print(f\"append element: {lst}\")\n",
        "lst.insert(2, 300)\n",
        "print(f\"insert element: {lst}\")\n",
        "lst.remove(600)\n",
        "print(f'remove element by value: {lst}')\n",
        "lst.pop(0)\n",
        "print(f\"remove element by index: {lst}\")"
      ],
      "metadata": {
        "colab": {
          "base_uri": "https://localhost:8080/"
        },
        "id": "a0ZKm1X5KqNA",
        "outputId": "29c35a91-8455-48e2-b68b-0ebc0649cc1b"
      },
      "execution_count": 3,
      "outputs": [
        {
          "output_type": "stream",
          "name": "stdout",
          "text": [
            "change element: [10, 200, 30, 40, 50]\n",
            "append element: [10, 200, 30, 40, 50, 600]\n",
            "insert element: [10, 200, 300, 30, 40, 50, 600]\n",
            "remove element by value: [10, 200, 300, 30, 40, 50]\n",
            "remove element by index: [200, 300, 30, 40, 50]\n"
          ]
        }
      ]
    },
    {
      "cell_type": "code",
      "source": [
        "# Exercise 3: Sum and average of all numbers in a list\n",
        "\n",
        "my_list = [10, 20, 30, 40, 50]\n",
        "\n",
        "total_sum = sum(my_list)\n",
        "ave = total_sum / len(my_list)\n",
        "\n",
        "print(f\"sum: {total_sum}\")\n",
        "print(f\"ave: {ave}\")"
      ],
      "metadata": {
        "colab": {
          "base_uri": "https://localhost:8080/"
        },
        "id": "xe4OTsgVLUuA",
        "outputId": "c0aea474-a1b8-4cb6-e733-77c76e2444e5"
      },
      "execution_count": 4,
      "outputs": [
        {
          "output_type": "stream",
          "name": "stdout",
          "text": [
            "sum: 150\n",
            "ave: 30.0\n"
          ]
        }
      ]
    },
    {
      "cell_type": "code",
      "source": [
        "# Exercise 4: Reverse a list\n",
        "\n",
        "list1 = [100, 200, 300, 400, 500]\n",
        "\n",
        "print(list1[::-1])"
      ],
      "metadata": {
        "colab": {
          "base_uri": "https://localhost:8080/"
        },
        "id": "HExrkitLM4Na",
        "outputId": "3dd05ad2-119b-4b27-b0a1-dae404748b98"
      },
      "execution_count": 5,
      "outputs": [
        {
          "output_type": "stream",
          "name": "stdout",
          "text": [
            "[500, 400, 300, 200, 100]\n"
          ]
        }
      ]
    },
    {
      "cell_type": "code",
      "source": [
        "# Exercise 5: Turn every item of a list into its square\n",
        "\n",
        "numbers = [1, 2, 3, 4, 5, 6, 7]\n",
        "\n",
        "result = list(map(lambda x: x**2, numbers))\n",
        "\n",
        "print(result)"
      ],
      "metadata": {
        "colab": {
          "base_uri": "https://localhost:8080/"
        },
        "id": "FbfTuboCM-da",
        "outputId": "ef523543-24ef-4d37-8c39-a17659d4fec3"
      },
      "execution_count": 7,
      "outputs": [
        {
          "output_type": "stream",
          "name": "stdout",
          "text": [
            "[1, 4, 9, 16, 25, 36, 49]\n"
          ]
        }
      ]
    },
    {
      "cell_type": "code",
      "source": [
        "# Exercise 6: Find Maximum and Minimum\n",
        "\n",
        "data = [8, 2, 15, 1, 9]\n",
        "\n",
        "print(f\"largest: {max(data)}\")\n",
        "print(f\"smallest: {min(data)}\")"
      ],
      "metadata": {
        "colab": {
          "base_uri": "https://localhost:8080/"
        },
        "id": "8qEHagJ4NNHh",
        "outputId": "2a070c46-3e2a-477a-bb9b-70e5dab59d7a"
      },
      "execution_count": 8,
      "outputs": [
        {
          "output_type": "stream",
          "name": "stdout",
          "text": [
            "largest: 15\n",
            "smallest: 1\n"
          ]
        }
      ]
    },
    {
      "cell_type": "code",
      "source": [
        "# Exercise 7: Count Occurrences\n",
        "\n",
        "sports = ['Cricket', 'Football', 'Hockey', 'Football', 'Tennis']\n",
        "word = 'Football'\n",
        "count = 0\n",
        "\n",
        "\n",
        "for sport in sports:\n",
        "  if sport == word:\n",
        "    count += 1\n",
        "\n",
        "print(f\"{word} apears {count} in the list\")"
      ],
      "metadata": {
        "colab": {
          "base_uri": "https://localhost:8080/"
        },
        "id": "dYFlbuP5NaVi",
        "outputId": "a9248563-3c50-454d-ba8e-292424983fda"
      },
      "execution_count": 10,
      "outputs": [
        {
          "output_type": "stream",
          "name": "stdout",
          "text": [
            "Football apears 2 in the list\n"
          ]
        }
      ]
    },
    {
      "cell_type": "code",
      "source": [
        "# Exercise 8: Sort a list of numbers\n",
        "\n",
        "numbers = [5, 2, 8, 1, 9]\n",
        "\n",
        "print(f\"original list: {numbers}\")\n",
        "print(f\"reversed list: {sorted(numbers)}\")"
      ],
      "metadata": {
        "colab": {
          "base_uri": "https://localhost:8080/"
        },
        "id": "O-AtRjlcN_eR",
        "outputId": "139502dd-0c0d-49fb-f28d-347db5e65622"
      },
      "execution_count": 11,
      "outputs": [
        {
          "output_type": "stream",
          "name": "stdout",
          "text": [
            "original list: [5, 2, 8, 1, 9]\n",
            "reversed list: [1, 2, 5, 8, 9]\n"
          ]
        }
      ]
    },
    {
      "cell_type": "code",
      "source": [
        "# Exercise 9: Create a copy of a list\n",
        "\n",
        "original_list = [10, 20, 30]\n",
        "print(\"Original list initially:\", original_list)\n",
        "\n",
        "copied_list = original_list[:]\n",
        "\n",
        "copied_list.append(40)\n",
        "copied_list[0] = 100\n",
        "\n",
        "print(\"Original list after modifying copy:\", original_list)\n",
        "print(\"Copied list after modification:\", copied_list)"
      ],
      "metadata": {
        "colab": {
          "base_uri": "https://localhost:8080/"
        },
        "id": "hA-2vtQIOUWc",
        "outputId": "97e72d01-7b7f-409c-b348-6f7f2969aa4a"
      },
      "execution_count": 14,
      "outputs": [
        {
          "output_type": "stream",
          "name": "stdout",
          "text": [
            "Original list initially: [10, 20, 30]\n",
            "Original list after modifying copy: [10, 20, 30]\n",
            "Copied list after modification: [100, 20, 30, 40]\n"
          ]
        }
      ]
    },
    {
      "cell_type": "code",
      "source": [
        "# Exercise 10: Combine two lists\n",
        "\n",
        "list_a = [1, 2]\n",
        "list_b = [3, 4]\n",
        "\n",
        "print(list_a + list_b)"
      ],
      "metadata": {
        "colab": {
          "base_uri": "https://localhost:8080/"
        },
        "id": "PU71kJgtOe_f",
        "outputId": "0f585e27-801a-4bb5-b9de-f21f0a569924"
      },
      "execution_count": 15,
      "outputs": [
        {
          "output_type": "stream",
          "name": "stdout",
          "text": [
            "[1, 2, 3, 4]\n"
          ]
        }
      ]
    },
    {
      "cell_type": "code",
      "source": [
        "# Exercise 11: Remove empty strings from the list of strings\n",
        "\n",
        "list1 = [\"Mike\", \"\", \"Emma\", \"Kelly\", \"\", \"Brad\"]\n",
        "\n",
        "for i in list1:\n",
        "  if i == \"\":\n",
        "    list1.remove(i)\n",
        "\n",
        "print(list1)"
      ],
      "metadata": {
        "colab": {
          "base_uri": "https://localhost:8080/"
        },
        "id": "3Uk0MauLOrjG",
        "outputId": "14f0f949-5463-4547-855a-176ec9b9a69f"
      },
      "execution_count": 16,
      "outputs": [
        {
          "output_type": "stream",
          "name": "stdout",
          "text": [
            "['Mike', 'Emma', 'Kelly', 'Brad']\n"
          ]
        }
      ]
    },
    {
      "cell_type": "code",
      "source": [
        "# Exercise 12: Remove Duplicates from list\n",
        "\n",
        "list_with_duplicates = [1, 2, 2, 3, 1, 4, 5, 4]\n",
        "result = []\n",
        "\n",
        "for i in list_with_duplicates:\n",
        "  if i not in result:\n",
        "    result.append(i)\n",
        "\n",
        "print(result)"
      ],
      "metadata": {
        "colab": {
          "base_uri": "https://localhost:8080/"
        },
        "id": "Sb8w8FyfPQlb",
        "outputId": "ccdcd140-a194-4a21-829c-a1ce86f3556e"
      },
      "execution_count": 17,
      "outputs": [
        {
          "output_type": "stream",
          "name": "stdout",
          "text": [
            "[1, 2, 3, 4, 5]\n"
          ]
        }
      ]
    },
    {
      "cell_type": "code",
      "source": [
        "# Exercise 13: Remove all occurrences of a specific item from a list\n",
        "\n",
        "lst = [5, 20, 15, 20, 25, 50, 20]\n",
        "\n",
        "for i in lst:\n",
        "  if i == 20:\n",
        "    lst.remove(i)\n",
        "\n",
        "print(lst)"
      ],
      "metadata": {
        "colab": {
          "base_uri": "https://localhost:8080/"
        },
        "id": "3Op3TlUPPhqJ",
        "outputId": "b1dfe021-a0e2-40f5-de0b-dab7cd67e36c"
      },
      "execution_count": 18,
      "outputs": [
        {
          "output_type": "stream",
          "name": "stdout",
          "text": [
            "[5, 15, 25, 50]\n"
          ]
        }
      ]
    },
    {
      "cell_type": "code",
      "source": [
        "# Exercise 14: List Comprehension for Numbers\n",
        "\n",
        "mixed_list = [1, 2, 3, 'Jessa', 4, 5, 'Kelly', 'Jhon', 6]\n",
        "print(f\"Original mixed list: {mixed_list}\")\n",
        "\n",
        "numbers_only_list = [item for item in mixed_list if isinstance(item, (int, float))]\n",
        "\n",
        "print(f\"List containing only numbers: {numbers_only_list}\")"
      ],
      "metadata": {
        "colab": {
          "base_uri": "https://localhost:8080/"
        },
        "id": "Yp0v4jBHPxls",
        "outputId": "bcb84fee-560d-4a7b-d47a-fdd423d0bc5e"
      },
      "execution_count": 19,
      "outputs": [
        {
          "output_type": "stream",
          "name": "stdout",
          "text": [
            "Original mixed list: [1, 2, 3, 'Jessa', 4, 5, 'Kelly', 'Jhon', 6]\n",
            "List containing only numbers: [1, 2, 3, 4, 5, 6]\n"
          ]
        }
      ]
    },
    {
      "cell_type": "code",
      "source": [
        "# Exercise 15: Access Nested Lists\n",
        "\n",
        "lst = [[10, 20, 30], [44, 55, 66], [77, 87, 99]]\n",
        "\n",
        "print(lst[1][1])"
      ],
      "metadata": {
        "colab": {
          "base_uri": "https://localhost:8080/"
        },
        "id": "ASbrNGl9QDiW",
        "outputId": "3f5cd4a1-a2e7-4a81-a1c6-f91553b07690"
      },
      "execution_count": 20,
      "outputs": [
        {
          "output_type": "stream",
          "name": "stdout",
          "text": [
            "55\n"
          ]
        }
      ]
    },
    {
      "cell_type": "code",
      "source": [
        "# Exercise 16: Flatten Nested List\n",
        "\n",
        "def flatten_list(nested_list):\n",
        "\n",
        "  flattened = []\n",
        "  for sublist in nested_list:\n",
        "    for item in sublist:\n",
        "      flattened.append(item)\n",
        "  return flattened\n",
        "\n",
        "list_of_lists = [[1, 2], [3, 4], [5, 6, 7]]\n",
        "print(f\"Original nested list: {list_of_lists}\")\n",
        "\n",
        "flattened_result = flatten_list(list_of_lists)\n",
        "print(f\"Flattened list (using loops): {flattened_result}\")\n",
        "\n"
      ],
      "metadata": {
        "colab": {
          "base_uri": "https://localhost:8080/"
        },
        "id": "3rxBwqvpQY_F",
        "outputId": "59cc797b-6223-454c-fe70-9628f517221e"
      },
      "execution_count": 22,
      "outputs": [
        {
          "output_type": "stream",
          "name": "stdout",
          "text": [
            "Original nested list: [[1, 2], [3, 4], [5, 6, 7]]\n",
            "Flattened list (using loops): [1, 2, 3, 4, 5, 6, 7]\n"
          ]
        }
      ]
    },
    {
      "cell_type": "code",
      "source": [
        "# Exercise 17: Concatenate two lists index-wise\n",
        "\n",
        "list1 = [\"M\", \"na\", \"i\", \"Ke\"]\n",
        "list2 = [\"y\", \"me\", \"s\", \"lly\"]\n",
        "list3 = [i + j for i, j in zip(list1, list2)]\n",
        "print(list3)"
      ],
      "metadata": {
        "colab": {
          "base_uri": "https://localhost:8080/"
        },
        "id": "2W4cl0NsQlIj",
        "outputId": "78749ee2-ac31-4b64-ee46-4e4bc45c0473"
      },
      "execution_count": 23,
      "outputs": [
        {
          "output_type": "stream",
          "name": "stdout",
          "text": [
            "['My', 'name', 'is', 'Kelly']\n"
          ]
        }
      ]
    },
    {
      "cell_type": "code",
      "source": [
        "# Exercise 18: Concatenate two lists in the following order\n",
        "\n",
        "list1 = [\"Hello \", \"take \"]\n",
        "list2 = [\"Dear\", \"Sir\"]\n",
        "\n",
        "res = [x + y for x in list1 for y in list2]\n",
        "print(res)"
      ],
      "metadata": {
        "colab": {
          "base_uri": "https://localhost:8080/"
        },
        "id": "XFSVO7HfQvO3",
        "outputId": "e363bc3e-8f65-49ce-bbb0-0280c2949268"
      },
      "execution_count": 24,
      "outputs": [
        {
          "output_type": "stream",
          "name": "stdout",
          "text": [
            "['Hello Dear', 'Hello Sir', 'take Dear', 'take Sir']\n"
          ]
        }
      ]
    },
    {
      "cell_type": "code",
      "source": [
        "# Exercise 19: Iterate both lists simultaneously\n",
        "\n",
        "list1 = [10, 20, 30, 40]\n",
        "list2 = [100, 200, 300, 400]\n",
        "\n",
        "for x, y in zip(list1, list2[::-1]):\n",
        "    print(x, y)"
      ],
      "metadata": {
        "colab": {
          "base_uri": "https://localhost:8080/"
        },
        "id": "-sNPH8cGQ1QT",
        "outputId": "73dfd802-1e0a-4c0b-ff5a-19908dc11568"
      },
      "execution_count": 25,
      "outputs": [
        {
          "output_type": "stream",
          "name": "stdout",
          "text": [
            "10 400\n",
            "20 300\n",
            "30 200\n",
            "40 100\n"
          ]
        }
      ]
    },
    {
      "cell_type": "code",
      "source": [
        "# Exercise 20: Add new item to list after a specified item\n",
        "\n",
        "list1 = [10, 20, [300, 400, [5000, 6000], 500], 30, 40]\n",
        "\n",
        "list1[2][2].append(700)\n",
        "print(list1)"
      ],
      "metadata": {
        "colab": {
          "base_uri": "https://localhost:8080/"
        },
        "id": "6ls7iDQpREtx",
        "outputId": "daec037e-3e75-47d9-9758-faa611fe5c08"
      },
      "execution_count": 26,
      "outputs": [
        {
          "output_type": "stream",
          "name": "stdout",
          "text": [
            "[10, 20, [300, 400, [5000, 6000, 700], 500], 30, 40]\n"
          ]
        }
      ]
    },
    {
      "cell_type": "code",
      "source": [
        "# Exercise 21: Extend nested list by adding the sublist\n",
        "\n",
        "list1 = [\"a\", \"b\", [\"c\", [\"d\", \"e\", [\"f\", \"g\"], \"k\"], \"l\"], \"m\", \"n\"]\n",
        "sub_list = [\"h\", \"i\", \"j\"]\n",
        "\n",
        "list1[2][1][2].extend(sub_list)\n",
        "print(list1)"
      ],
      "metadata": {
        "colab": {
          "base_uri": "https://localhost:8080/"
        },
        "id": "AqrGb6V6RUiT",
        "outputId": "a24e0b28-30dc-4a14-9a21-d7349950eae3"
      },
      "execution_count": 27,
      "outputs": [
        {
          "output_type": "stream",
          "name": "stdout",
          "text": [
            "['a', 'b', ['c', ['d', 'e', ['f', 'g', 'h', 'i', 'j'], 'k'], 'l'], 'm', 'n']\n"
          ]
        }
      ]
    },
    {
      "cell_type": "code",
      "source": [
        "# Exercise 22: Replace list’s item with new value if found\n",
        "\n",
        "list1 = [5, 10, 15, 20, 25, 50, 20]\n",
        "\n",
        "index = list1.index(20)\n",
        "\n",
        "list1[index] = 200\n",
        "print(list1)"
      ],
      "metadata": {
        "colab": {
          "base_uri": "https://localhost:8080/"
        },
        "id": "T659LBWQRa2N",
        "outputId": "54599401-1f01-4df9-a771-e5525683083a"
      },
      "execution_count": 28,
      "outputs": [
        {
          "output_type": "stream",
          "name": "stdout",
          "text": [
            "[5, 10, 15, 200, 25, 50, 20]\n"
          ]
        }
      ]
    }
  ]
}